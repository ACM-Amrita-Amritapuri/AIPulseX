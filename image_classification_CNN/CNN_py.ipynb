{
  "cells": [
    {
      "cell_type": "markdown",
      "metadata": {
        "id": "view-in-github",
        "colab_type": "text"
      },
      "source": [
        "<a href=\"https://colab.research.google.com/github/ama1a005/CNN/blob/main/CNN_py.ipynb\" target=\"_parent\"><img src=\"https://colab.research.google.com/assets/colab-badge.svg\" alt=\"Open In Colab\"/></a>"
      ]
    },
    {
      "cell_type": "code",
      "execution_count": null,
      "metadata": {
        "id": "IExobTFHYNV4"
      },
      "outputs": [],
      "source": [
        "import tensorflow as tf\n",
        "from tensorflow.keras import datasets , layers , models\n",
        "import matplotlib.pyplot as plt\n",
        "import numpy as np\n",
        "from tensorflow.keras.layers import Flatten,Dense,Dropout\n",
        "from tensorflow.keras.models import Model"
      ]
    },
    {
      "cell_type": "markdown",
      "metadata": {
        "id": "E35qH381YvhC"
      },
      "source": [
        "Custom CNN"
      ]
    },
    {
      "cell_type": "code",
      "execution_count": null,
      "metadata": {
        "colab": {
          "base_uri": "https://localhost:8080/"
        },
        "collapsed": true,
        "id": "9qzxIBlidU6c",
        "outputId": "ba7cf4bd-cb3b-48d3-c681-c8ebd19cf5bc"
      },
      "outputs": [
        {
          "name": "stdout",
          "output_type": "stream",
          "text": [
            "Downloading data from https://www.cs.toronto.edu/~kriz/cifar-10-python.tar.gz\n",
            "\u001b[1m170498071/170498071\u001b[0m \u001b[32m━━━━━━━━━━━━━━━━━━━━\u001b[0m\u001b[37m\u001b[0m \u001b[1m3s\u001b[0m 0us/step\n"
          ]
        },
        {
          "data": {
            "text/plain": [
              "(50000, 32, 32, 3)"
            ]
          },
          "execution_count": 3,
          "metadata": {},
          "output_type": "execute_result"
        }
      ],
      "source": [
        "(X_train,y_train),(X_test,y_test) = datasets.cifar10.load_data()\n",
        "X_train.shape"
      ]
    },
    {
      "cell_type": "code",
      "execution_count": null,
      "metadata": {
        "colab": {
          "base_uri": "https://localhost:8080/"
        },
        "id": "eA2IS6OrzG66",
        "outputId": "734da620-fa64-46a2-be38-06de67824983"
      },
      "outputs": [
        {
          "data": {
            "text/plain": [
              "array([6, 9, 9, 4, 1], dtype=uint8)"
            ]
          },
          "execution_count": 4,
          "metadata": {},
          "output_type": "execute_result"
        }
      ],
      "source": [
        "y_train = y_train.reshape(-1,)   # coverting nested array to 1D array\n",
        "y_test = y_test.reshape(-1,)\n",
        "y_train[:5]"
      ]
    },
    {
      "cell_type": "code",
      "execution_count": null,
      "metadata": {
        "id": "YfVytEnbtrI8"
      },
      "outputs": [],
      "source": [
        "classes = [\"airplane\",\"automobile\",\"bird\",\"cat\",\"deer\",\"dog\",\"frog\",\"horse\",\"ship\",\"truck\"]"
      ]
    },
    {
      "cell_type": "code",
      "execution_count": null,
      "metadata": {
        "id": "ZuHXmzMAgF8s"
      },
      "outputs": [],
      "source": [
        "def plot_sample(x,y,index):\n",
        "  plt.figure(figsize=(15,2))\n",
        "  plt.imshow(x[index])\n",
        "  plt.xlabel(classes[y[index]])"
      ]
    },
    {
      "cell_type": "code",
      "execution_count": null,
      "metadata": {
        "colab": {
          "base_uri": "https://localhost:8080/",
          "height": 237
        },
        "id": "N7FyTBLxlP1l",
        "outputId": "56de80fe-0a52-4e71-de99-8a87d552df52"
      },
      "outputs": [
        {
          "data": {
            "image/png": "[encoded data removed]",
            "text/plain": [
              "<Figure size 1500x200 with 1 Axes>"
            ]
          },
          "metadata": {},
          "output_type": "display_data"
        }
      ],
      "source": [
        "plot_sample(X_train,y_train,10)"
      ]
    },
    {
      "cell_type": "code",
      "execution_count": null,
      "metadata": {
        "id": "BjxvPeySyyTg"
      },
      "outputs": [],
      "source": [
        "X_train = X_train/255   #normalisting the pixel values\n",
        "X_test = X_test/255"
      ]
    },
    {
      "cell_type": "code",
      "execution_count": null,
      "metadata": {
        "colab": {
          "base_uri": "https://localhost:8080/"
        },
        "id": "IPUCrkdXy4D-",
        "outputId": "1c820450-2cb5-4586-b134-5fdd118ced08"
      },
      "outputs": [
        {
          "name": "stderr",
          "output_type": "stream",
          "text": [
            "/usr/local/lib/python3.10/dist-packages/keras/src/layers/convolutional/base_conv.py:107: UserWarning: Do not pass an `input_shape`/`input_dim` argument to a layer. When using Sequential models, prefer using an `Input(shape)` object as the first layer in the model instead.\n",
            "  super().__init__(activity_regularizer=activity_regularizer, **kwargs)\n"
          ]
        }
      ],
      "source": [
        "cnn = models.Sequential([\n",
        "\n",
        "\n",
        "                         layers.Conv2D(filters=32,kernel_size=(3,3),activation ='relu',input_shape=(32,32,3)),\n",
        "                         layers.MaxPooling2D((2,2)),\n",
        "\n",
        "                         layers.Conv2D(filters=64,kernel_size=(3,3),activation ='relu'),\n",
        "                         layers.MaxPooling2D((2,2)),\n",
        "\n",
        "                         layers.Flatten(),\n",
        "                         layers.Dense(64,activation='relu'),\n",
        "                         layers.Dense(10,activation='softmax')\n",
        "\n",
        "])"
      ]
    },
    {
      "cell_type": "code",
      "execution_count": null,
      "metadata": {
        "id": "EgD2bBA6k-PX"
      },
      "outputs": [],
      "source": [
        "cnn.compile(optimizer='adam',loss='sparse_categorical_crossentropy',metrics=['accuracy'])"
      ]
    },
    {
      "cell_type": "code",
      "execution_count": null,
      "metadata": {
        "colab": {
          "base_uri": "https://localhost:8080/"
        },
        "collapsed": true,
        "id": "QcrUTTQ2lz0z",
        "outputId": "22fe4aeb-2fd2-4a45-b0cf-f094a538b90b"
      },
      "outputs": [
        {
          "name": "stdout",
          "output_type": "stream",
          "text": [
            "Epoch 1/5\n",
            "\u001b[1m1563/1563\u001b[0m \u001b[32m━━━━━━━━━━━━━━━━━━━━\u001b[0m\u001b[37m\u001b[0m \u001b[1m80s\u001b[0m 47ms/step - accuracy: 0.3707 - loss: 1.7179\n",
            "Epoch 2/5\n",
            "\u001b[1m1563/1563\u001b[0m \u001b[32m━━━━━━━━━━━━━━━━━━━━\u001b[0m\u001b[37m\u001b[0m \u001b[1m99s\u001b[0m 63ms/step - accuracy: 0.5784 - loss: 1.1874\n",
            "Epoch 3/5\n",
            "\u001b[1m1563/1563\u001b[0m \u001b[32m━━━━━━━━━━━━━━━━━━━━\u001b[0m\u001b[37m\u001b[0m \u001b[1m110s\u001b[0m 43ms/step - accuracy: 0.6360 - loss: 1.0342\n",
            "Epoch 4/5\n",
            "\u001b[1m1563/1563\u001b[0m \u001b[32m━━━━━━━━━━━━━━━━━━━━\u001b[0m\u001b[37m\u001b[0m \u001b[1m81s\u001b[0m 42ms/step - accuracy: 0.6717 - loss: 0.9416\n",
            "Epoch 5/5\n",
            "\u001b[1m1563/1563\u001b[0m \u001b[32m━━━━━━━━━━━━━━━━━━━━\u001b[0m\u001b[37m\u001b[0m \u001b[1m100s\u001b[0m 54ms/step - accuracy: 0.6974 - loss: 0.8738\n"
          ]
        },
        {
          "data": {
            "text/plain": [
              "<keras.src.callbacks.history.History at 0x7a9fcc753340>"
            ]
          },
          "execution_count": 11,
          "metadata": {},
          "output_type": "execute_result"
        }
      ],
      "source": [
        "cnn.fit(X_train,y_train,epochs=5)"
      ]
    },
    {
      "cell_type": "code",
      "execution_count": null,
      "metadata": {
        "colab": {
          "base_uri": "https://localhost:8080/"
        },
        "collapsed": true,
        "id": "qBk2JHp9xV31",
        "outputId": "374593c5-5723-4211-aa4f-8f9c6fef509d"
      },
      "outputs": [
        {
          "name": "stdout",
          "output_type": "stream",
          "text": [
            "\u001b[1m313/313\u001b[0m \u001b[32m━━━━━━━━━━━━━━━━━━━━\u001b[0m\u001b[37m\u001b[0m \u001b[1m4s\u001b[0m 12ms/step\n"
          ]
        },
        {
          "data": {
            "text/plain": [
              "array([[7.9441285e-03, 4.0959390e-03, 1.5351285e-02, 4.2366517e-01,\n",
              "        3.1686071e-03, 1.2815209e-01, 1.4642479e-01, 5.8059119e-05,\n",
              "        2.6422775e-01, 6.9120359e-03],\n",
              "       [2.2364471e-02, 6.1051714e-01, 7.6974531e-05, 9.7490920e-06,\n",
              "        2.5917507e-06, 1.1920858e-07, 3.3638713e-07, 1.0735630e-06,\n",
              "        3.6105359e-01, 5.9739058e-03],\n",
              "       [2.2259600e-01, 2.8780055e-01, 2.6997305e-03, 2.6821194e-03,\n",
              "        1.2907286e-03, 1.2107663e-04, 1.9210407e-04, 2.9218046e-04,\n",
              "        4.3362331e-01, 4.8702277e-02],\n",
              "       [8.9825684e-01, 3.6788229e-02, 2.0823780e-02, 3.4644741e-03,\n",
              "        3.3107288e-03, 6.5865694e-05, 8.1517743e-03, 5.5570679e-05,\n",
              "        2.5523284e-02, 3.5593943e-03],\n",
              "       [8.8169669e-05, 2.3583445e-04, 4.7384828e-02, 6.1059091e-02,\n",
              "        4.4757703e-01, 2.0645272e-02, 4.2205402e-01, 3.6717116e-04,\n",
              "        5.2786898e-04, 6.0732171e-05]], dtype=float32)"
            ]
          },
          "execution_count": 12,
          "metadata": {},
          "output_type": "execute_result"
        }
      ],
      "source": [
        "y_pred = cnn.predict(X_test)\n",
        "y_pred[:5]"
      ]
    },
    {
      "cell_type": "markdown",
      "metadata": {
        "id": "BxNNmFUl1A-e"
      },
      "source": [
        "Checking whether the samples predicted by the model is correct."
      ]
    },
    {
      "cell_type": "code",
      "execution_count": null,
      "metadata": {
        "colab": {
          "base_uri": "https://localhost:8080/"
        },
        "id": "IKU1KsH8yPx7",
        "outputId": "653aeb49-d740-4789-dd11-d3a0f4b0101c"
      },
      "outputs": [
        {
          "data": {
            "text/plain": [
              "[3, 1, 8, 0, 4]"
            ]
          },
          "execution_count": 13,
          "metadata": {},
          "output_type": "execute_result"
        }
      ],
      "source": [
        "y_classes_by_model =[np.argmax(element) for element in y_pred]\n",
        "y_classes_by_model[:5]"
      ]
    },
    {
      "cell_type": "code",
      "execution_count": null,
      "metadata": {
        "colab": {
          "base_uri": "https://localhost:8080/"
        },
        "id": "lYsgDuH7y6sb",
        "outputId": "e7d415e0-2a99-482c-a76f-d7611ed4fc31"
      },
      "outputs": [
        {
          "data": {
            "text/plain": [
              "array([3, 8, 8, 0, 6], dtype=uint8)"
            ]
          },
          "execution_count": 14,
          "metadata": {},
          "output_type": "execute_result"
        }
      ],
      "source": [
        "y_test[:5]\n"
      ]
    },
    {
      "cell_type": "markdown",
      "metadata": {
        "id": "NtQQbnXS18mE"
      },
      "source": [
        "Three out of first five samples have been correctly predicted by the model"
      ]
    },
    {
      "cell_type": "code",
      "execution_count": null,
      "metadata": {
        "colab": {
          "base_uri": "https://localhost:8080/"
        },
        "id": "fCTNa8J_2iVW",
        "outputId": "f3e1cbf8-c733-49d2-9c5c-f65e7bd12acc"
      },
      "outputs": [
        {
          "name": "stdout",
          "output_type": "stream",
          "text": [
            "Classification report: \n",
            "               precision    recall  f1-score   support\n",
            "\n",
            "           0       0.69      0.78      0.73      1000\n",
            "           1       0.73      0.85      0.79      1000\n",
            "           2       0.60      0.54      0.57      1000\n",
            "           3       0.61      0.36      0.45      1000\n",
            "           4       0.64      0.60      0.62      1000\n",
            "           5       0.57      0.64      0.61      1000\n",
            "           6       0.73      0.79      0.76      1000\n",
            "           7       0.69      0.77      0.73      1000\n",
            "           8       0.77      0.80      0.78      1000\n",
            "           9       0.79      0.71      0.75      1000\n",
            "\n",
            "    accuracy                           0.68     10000\n",
            "   macro avg       0.68      0.68      0.68     10000\n",
            "weighted avg       0.68      0.68      0.68     10000\n",
            "\n"
          ]
        }
      ],
      "source": [
        "from sklearn.metrics import classification_report\n",
        "print(\"Classification report: \\n\",classification_report(y_test,y_classes_by_model))\n"
      ]
    },
    {
      "cell_type": "code",
      "execution_count": null,
      "metadata": {
        "colab": {
          "base_uri": "https://localhost:8080/"
        },
        "id": "s4N4NpcYMl-K",
        "outputId": "ec501b73-592d-45ba-c4db-4e32b174b3e5"
      },
      "outputs": [
        {
          "name": "stderr",
          "output_type": "stream",
          "text": [
            "WARNING:absl:You are saving your model as an HDF5 file via `model.save()` or `keras.saving.save_model(model)`. This file format is considered legacy. We recommend using instead the native Keras format, e.g. `model.save('my_model.keras')` or `keras.saving.save_model(model, 'my_model.keras')`. \n"
          ]
        }
      ],
      "source": [
        "cnn.save('custom_cnn.h5')"
      ]
    },
    {
      "cell_type": "markdown",
      "metadata": {
        "id": "M0g7W260gb2W"
      },
      "source": [
        "PRETRAINED MODEL FOR TRANSFER LEARNING"
      ]
    },
    {
      "cell_type": "code",
      "execution_count": null,
      "metadata": {
        "colab": {
          "base_uri": "https://localhost:8080/"
        },
        "id": "vgbMwLetgiBu",
        "outputId": "9fc7c722-bf74-48a6-e14c-9e78ec80d955"
      },
      "outputs": [
        {
          "name": "stdout",
          "output_type": "stream",
          "text": [
            "Downloading data from https://storage.googleapis.com/tensorflow/keras-applications/vgg16/vgg16_weights_tf_dim_ordering_tf_kernels_notop.h5\n",
            "\u001b[1m58889256/58889256\u001b[0m \u001b[32m━━━━━━━━━━━━━━━━━━━━\u001b[0m\u001b[37m\u001b[0m \u001b[1m1s\u001b[0m 0us/step\n"
          ]
        }
      ],
      "source": [
        "base_model = tf.keras.applications.VGG16(input_shape=(32,32,3),include_top=False,weights='imagenet')  #removing the top layer since it only needs to classify w.r.t 10 classes"
      ]
    },
    {
      "cell_type": "code",
      "execution_count": null,
      "metadata": {
        "id": "vpVu9NvXAnYX"
      },
      "outputs": [],
      "source": [
        "for layer in base_model.layers:\n",
        "  layer.trainable = False     #to prevent retraining"
      ]
    },
    {
      "cell_type": "code",
      "execution_count": null,
      "metadata": {
        "id": "9sjFhx8wCtyj"
      },
      "outputs": [],
      "source": [
        "x = Flatten()(base_model.output) #flatten the 4D vector into 1D to feed into the dense layer\n",
        "x = Dense(128 , activation='relu')(x)\n",
        "x = Dropout(0.5)(x)   #to prevent overfitting\n",
        "x = Dense(10 , activation='softmax')(x)"
      ]
    },
    {
      "cell_type": "code",
      "execution_count": null,
      "metadata": {
        "id": "ZYk-pFFCFK1T"
      },
      "outputs": [],
      "source": [
        "model = Model(inputs=base_model.input, outputs=x)"
      ]
    },
    {
      "cell_type": "code",
      "execution_count": null,
      "metadata": {
        "id": "t8mfyE5oFVSo"
      },
      "outputs": [],
      "source": [
        "model.compile(optimizer='adam', loss='sparse_categorical_crossentropy', metrics=['accuracy'])"
      ]
    },
    {
      "cell_type": "code",
      "execution_count": null,
      "metadata": {
        "colab": {
          "background_save": true,
          "base_uri": "https://localhost:8080/"
        },
        "id": "xh9aZUQZFZcy",
        "outputId": "0a6c481a-70b4-46fb-8ed0-802b81539fde"
      },
      "outputs": [
        {
          "name": "stdout",
          "output_type": "stream",
          "text": [
            "Epoch 1/5\n",
            "\u001b[1m1563/1563\u001b[0m \u001b[32m━━━━━━━━━━━━━━━━━━━━\u001b[0m\u001b[37m\u001b[0m \u001b[1m786s\u001b[0m 503ms/step - accuracy: 0.5600 - loss: 1.2560 - val_accuracy: 0.5874 - val_loss: 1.1938\n",
            "Epoch 2/5\n",
            "\u001b[1m 763/1563\u001b[0m \u001b[32m━━━━━━━━━\u001b[0m\u001b[37m━━━━━━━━━━━\u001b[0m \u001b[1m5:37\u001b[0m 422ms/step - accuracy: 0.5669 - loss: 1.2397"
          ]
        }
      ],
      "source": [
        "history = model.fit(X_train, y_train, epochs=5, validation_data=(X_test, y_test))\n"
      ]
    },
    {
      "cell_type": "code",
      "execution_count": null,
      "metadata": {
        "id": "4IDwVfHmFkUb"
      },
      "outputs": [],
      "source": [
        "test_loss, test_acc = model.evaluate(X_test, y_test)\n",
        "print(f\"Test accuracy: {test_acc}\")"
      ]
    },
    {
      "cell_type": "code",
      "execution_count": 28,
      "metadata": {
        "id": "RzLLZWxqFp-j",
        "colab": {
          "base_uri": "https://localhost:8080/"
        },
        "outputId": "41456464-9aac-41c7-b640-09b06147ebac"
      },
      "outputs": [
        {
          "output_type": "stream",
          "name": "stdout",
          "text": [
            "\u001b[1m313/313\u001b[0m \u001b[32m━━━━━━━━━━━━━━━━━━━━\u001b[0m\u001b[37m\u001b[0m \u001b[1m2s\u001b[0m 6ms/step\n",
            "[[1.74370967e-02 9.17638093e-02 2.01100856e-02 4.36797798e-01\n",
            "  4.43394333e-02 1.07909590e-01 1.43513009e-01 7.00513972e-03\n",
            "  6.02778941e-02 7.08462149e-02]\n",
            " [4.99042459e-02 1.05280109e-01 3.06559465e-04 4.97967594e-05\n",
            "  3.34561046e-05 2.87186754e-06 4.05885976e-06 1.10697920e-05\n",
            "  8.12375426e-01 3.20324712e-02]\n",
            " [3.87461111e-02 4.03105542e-02 1.61842990e-03 2.70172092e-03\n",
            "  1.73997749e-02 5.86647424e-04 1.32253590e-05 2.51818239e-03\n",
            "  7.83037007e-01 1.13068365e-01]\n",
            " [7.43461922e-02 2.21671179e-01 7.10508600e-03 7.40090339e-03\n",
            "  2.15321430e-03 7.47556915e-04 4.27787134e-04 1.29187619e-03\n",
            "  3.90646905e-01 2.94209331e-01]\n",
            " [9.42564511e-05 8.51521054e-06 5.77702112e-02 1.34333121e-02\n",
            "  1.32158194e-02 1.64921710e-03 9.13749695e-01 2.86070626e-05\n",
            "  4.45960941e-05 5.78336994e-06]]\n"
          ]
        }
      ],
      "source": [
        "y_pred = model.predict(X_test)\n",
        "print(y_pred[:5])"
      ]
    },
    {
      "cell_type": "code",
      "source": [
        "y_classes_by_model =[np.argmax(element) for element in y_pred]\n",
        "y_classes_by_model[:5]"
      ],
      "metadata": {
        "colab": {
          "base_uri": "https://localhost:8080/"
        },
        "id": "29USxnMxf8Ak",
        "outputId": "7719c261-915e-42d8-c1c3-9bb38753a40f"
      },
      "execution_count": 29,
      "outputs": [
        {
          "output_type": "execute_result",
          "data": {
            "text/plain": [
              "[3, 8, 8, 8, 6]"
            ]
          },
          "metadata": {},
          "execution_count": 29
        }
      ]
    },
    {
      "cell_type": "code",
      "source": [
        "y_test[:5]      # four out first five samples from the test set has been correctly predicted by the pre trained model"
      ],
      "metadata": {
        "colab": {
          "base_uri": "https://localhost:8080/"
        },
        "id": "JuUfFCSsgE__",
        "outputId": "56d0f5cb-d5f8-4da6-a023-135150001384"
      },
      "execution_count": 30,
      "outputs": [
        {
          "output_type": "execute_result",
          "data": {
            "text/plain": [
              "array([3, 8, 8, 0, 6], dtype=uint8)"
            ]
          },
          "metadata": {},
          "execution_count": 30
        }
      ]
    },
    {
      "cell_type": "code",
      "source": [
        "model.save('pretrained_model.h5')"
      ],
      "metadata": {
        "colab": {
          "base_uri": "https://localhost:8080/"
        },
        "id": "EqTIKe7AgUCH",
        "outputId": "48dd31ea-cde7-472e-c3e0-6bf43ba4a545"
      },
      "execution_count": 31,
      "outputs": [
        {
          "output_type": "stream",
          "name": "stderr",
          "text": [
            "WARNING:absl:You are saving your model as an HDF5 file via `model.save()` or `keras.saving.save_model(model)`. This file format is considered legacy. We recommend using instead the native Keras format, e.g. `model.save('my_model.keras')` or `keras.saving.save_model(model, 'my_model.keras')`. \n"
          ]
        }
      ]
    },
    {
      "cell_type": "markdown",
      "source": [
        "Comparison of results"
      ],
      "metadata": {
        "id": "rukHSKtKg8UW"
      }
    },
    {
      "cell_type": "code",
      "source": [
        "custom_loss, custom_accuracy = cnn.evaluate(X_test, y_test, verbose=0)\n",
        "print(f'Custom Model Accuracy: {custom_accuracy:.4f}')\n",
        "\n",
        "# Evaluate pre-trained model\n",
        "pretrained_loss, pretrained_accuracy =model.evaluate(X_test, y_test, verbose=0)\n",
        "print(f'Pre-trained Model Accuracy: {pretrained_accuracy:.4f}')"
      ],
      "metadata": {
        "colab": {
          "base_uri": "https://localhost:8080/"
        },
        "id": "xR7tiEEngcVI",
        "outputId": "1c847663-5f35-4c69-e32b-3d423451b1f1"
      },
      "execution_count": 32,
      "outputs": [
        {
          "output_type": "stream",
          "name": "stdout",
          "text": [
            "Custom Model Accuracy: 0.6999\n",
            "Pre-trained Model Accuracy: 0.5995\n"
          ]
        }
      ]
    },
    {
      "cell_type": "markdown",
      "source": [],
      "metadata": {
        "id": "5qw6yYqJgxu-"
      }
    }
  ],
  "metadata": {
    "colab": {
      "provenance": [],
      "authorship_tag": "ABX9TyM8bM0dnhAOdkBOkn8OMhul",
      "include_colab_link": true
    },
    "kernelspec": {
      "display_name": "Python 3",
      "name": "python3"
    },
    "language_info": {
      "name": "python"
    }
  },
  "nbformat": 4,
  "nbformat_minor": 0
}