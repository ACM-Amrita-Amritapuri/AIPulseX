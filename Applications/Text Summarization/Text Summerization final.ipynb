{
 "cells": [
  {
   "cell_type": "code",
   "execution_count": 109,
   "id": "4ef158a8-aee8-4f0a-9b45-c7b1fa46f3bd",
   "metadata": {},
   "outputs": [],
   "source": [
    "text= \"\"\"throwaway here for obvious reasons.. today my friends and i decided to go off-roading in nowhereland. we packed up all our stuff, made the roughly\n",
    "hour drive off to the mountains to make a fire, go fishing and just talk about life until we got too tired to stay any longer. we got everything packed\n",
    "up and brought along one of my friends’ dog because she’s awesome and loves the outdoors. the dog was flipping out in the suv on the way to the\n",
    "path because she knew was a kick-ass day she was about to have breaking out of her normally lame, domesticated dog life. my friends decided to\n",
    "drink during the off-roading adventure, which was fine because i volunteered to drive since i cannot drink alcohol (mouth is wired shut [long story\n",
    "but i can’t drink alcohol for a while]) so we were playing it safe. the dog couldn’t be any happier and was about to jump out of the truck (literally)\n",
    "when we got there so the dog’s owner let her get out and run along side of us while we drove the dirt road up to the destination for the fire. as i was\n",
    "driving, the dog went in and out of vision, mostly biting the tires as most dogs do, playing around. the owner kept asking us (the two guys up front)\n",
    "if we could see her. we said yes, and kept driving. as i was driving at no more than 5-10mph along the dirt road, i could hear the dog biting at the\n",
    "tires playfully, but we just laughed it off bc we thought she was having fun. the horrible, seconds-long event that ensued was me feeling the dreaded\n",
    "’double-thud’ under the tires and heard the dog yelp in pain. i instantly stopped the\"\"\""
   ]
  },
  {
   "cell_type": "markdown",
   "id": "bf870da9-1021-402b-ba39-a8d029ed3b2c",
   "metadata": {},
   "source": [
    "<font size=\"5\">Importing Libraries</font>"
   ]
  },
  {
   "cell_type": "code",
   "execution_count": 78,
   "id": "b954f723-129e-41ad-8015-2b3dfb161089",
   "metadata": {},
   "outputs": [],
   "source": [
    "import spacy\n",
    "from spacy.lang.en.stop_words import STOP_WORDS\n",
    "from string import punctuation\n",
    "from heapq import nlargest"
   ]
  },
  {
   "cell_type": "markdown",
   "id": "8fc6f804-5e79-4f40-a887-6c2caaa2fb37",
   "metadata": {},
   "source": [
    "<font size=\"5\">Loading pre-trained model</font>"
   ]
  },
  {
   "cell_type": "code",
   "execution_count": 79,
   "id": "a7ddfa0b-6151-4c1e-9647-d046b6a6c860",
   "metadata": {},
   "outputs": [
    {
     "data": {
      "text/plain": [
       "<spacy.lang.en.English at 0x1d243e7b010>"
      ]
     },
     "execution_count": 79,
     "metadata": {},
     "output_type": "execute_result"
    }
   ],
   "source": [
    "spacy.load('en_core_web_sm') "
   ]
  },
  {
   "cell_type": "code",
   "execution_count": 83,
   "id": "574755c6-dede-40f1-aa77-885622f0d9da",
   "metadata": {},
   "outputs": [],
   "source": [
    "#Importing stopwords and punctuation from pre-trained model\n",
    "stopwords = list(STOP_WORDS)\n",
    "punctuation = punctuation"
   ]
  },
  {
   "cell_type": "code",
   "execution_count": 87,
   "id": "8f01ac91-36fa-4a03-8511-fcba2c0cb2f3",
   "metadata": {},
   "outputs": [],
   "source": [
    "#Creating an NLP Model\n",
    "nlp = spacy.load('en_core_web_sm')"
   ]
  },
  {
   "cell_type": "markdown",
   "id": "5d5a2cd8-9f0e-4362-a0ae-0593a571bb8b",
   "metadata": {},
   "source": [
    "<font size=\"5\">Preprocessing the Text</font>"
   ]
  },
  {
   "cell_type": "code",
   "execution_count": 88,
   "id": "6b8d278c-33ef-4390-8cda-572819b82b86",
   "metadata": {},
   "outputs": [],
   "source": [
    "doc = nlp(text)"
   ]
  },
  {
   "cell_type": "code",
   "execution_count": 89,
   "id": "e715e176-cd07-4e90-99cf-af4c7f86ac55",
   "metadata": {},
   "outputs": [
    {
     "name": "stdout",
     "output_type": "stream",
     "text": [
      "['throwaway', 'here', 'for', 'obvious', 'reasons', '..', 'today', 'my', 'friends', 'and', 'i', 'decided', 'to', 'go', 'off', '-', 'roading', 'in', 'nowhereland', '.', 'we', 'packed', 'up', 'all', 'our', 'stuff', ',', 'made', 'the', 'roughly', '\\n', 'hour', 'drive', 'off', 'to', 'the', 'mountains', 'to', 'make', 'a', 'fire', ',', 'go', 'fishing', 'and', 'just', 'talk', 'about', 'life', 'until', 'we', 'got', 'too', 'tired', 'to', 'stay', 'any', 'longer', '.', 'we', 'got', 'everything', 'packed', '\\n', 'up', 'and', 'brought', 'along', 'one', 'of', 'my', 'friends', '’', 'dog', 'because', 'she', '’s', 'awesome', 'and', 'loves', 'the', 'outdoors', '.', 'the', 'dog', 'was', 'flipping', 'out', 'in', 'the', 'suv', 'on', 'the', 'way', 'to', 'the', '\\n', 'path', 'because', 'she', 'knew', 'was', 'a', 'kick', '-', 'ass', 'day', 'she', 'was', 'about', 'to', 'have', 'breaking', 'out', 'of', 'her', 'normally', 'lame', ',', 'domesticated', 'dog', 'life', '.', 'my', 'friends', 'decided', 'to', '\\n', 'drink', 'during', 'the', 'off', '-', 'roading', 'adventure', ',', 'which', 'was', 'fine', 'because', 'i', 'volunteered', 'to', 'drive', 'since', 'i', 'can', 'not', 'drink', 'alcohol', '(', 'mouth', 'is', 'wired', 'shut', '[', 'long', 'story', '\\n', 'but', 'i', 'ca', 'n’t', 'drink', 'alcohol', 'for', 'a', 'while', ']', ')', 'so', 'we', 'were', 'playing', 'it', 'safe', '.', 'the', 'dog', 'could', 'n’t', 'be', 'any', 'happier', 'and', 'was', 'about', 'to', 'jump', 'out', 'of', 'the', 'truck', '(', 'literally', ')', '\\n', 'when', 'we', 'got', 'there', 'so', 'the', 'dog', '’s', 'owner', 'let', 'her', 'get', 'out', 'and', 'run', 'along', 'side', 'of', 'us', 'while', 'we', 'drove', 'the', 'dirt', 'road', 'up', 'to', 'the', 'destination', 'for', 'the', 'fire', '.', 'as', 'i', 'was', '\\n', 'driving', ',', 'the', 'dog', 'went', 'in', 'and', 'out', 'of', 'vision', ',', 'mostly', 'biting', 'the', 'tires', 'as', 'most', 'dogs', 'do', ',', 'playing', 'around', '.', 'the', 'owner', 'kept', 'asking', 'us', '(', 'the', 'two', 'guys', 'up', 'front', ')', '\\n', 'if', 'we', 'could', 'see', 'her', '.', 'we', 'said', 'yes', ',', 'and', 'kept', 'driving', '.', 'as', 'i', 'was', 'driving', 'at', 'no', 'more', 'than', '5', '-', '10', 'mph', 'along', 'the', 'dirt', 'road', ',', 'i', 'could', 'hear', 'the', 'dog', 'biting', 'at', 'the', '\\n', 'tires', 'playfully', ',', 'but', 'we', 'just', 'laughed', 'it', 'off', 'bc', 'we', 'thought', 'she', 'was', 'having', 'fun', '.', 'the', 'horrible', ',', 'seconds', '-', 'long', 'event', 'that', 'ensued', 'was', 'me', 'feeling', 'the', 'dreaded', '\\n', '’', 'double', '-', 'thud', '’', 'under', 'the', 'tires', 'and', 'heard', 'the', 'dog', 'yelp', 'in', 'pain', '.', 'i', 'instantly', 'stopped', 'the']\n"
     ]
    }
   ],
   "source": [
    "#Generating the list of tokens\n",
    "tokens=[token.text for token in doc]\n",
    "print(tokens)"
   ]
  },
  {
   "cell_type": "markdown",
   "id": "21c60ddc-a943-4264-a494-bb8d5e8d8d26",
   "metadata": {},
   "source": [
    "<font size=\"6\">Word tokenization</font>"
   ]
  },
  {
   "cell_type": "markdown",
   "id": "16a219d5-5912-490f-913b-9d11cb4288d1",
   "metadata": {},
   "source": [
    "<font size=\"5\">Word Frequency Calculation</font>"
   ]
  },
  {
   "cell_type": "code",
   "execution_count": 95,
   "id": "3615d81c-721d-4b38-9be8-284cad5483dd",
   "metadata": {},
   "outputs": [
    {
     "name": "stdout",
     "output_type": "stream",
     "text": [
      "{'throwaway': 1, 'obvious': 1, 'reasons': 1, '..': 1, 'today': 1, 'friends': 3, 'decided': 2, 'roading': 2, 'nowhereland': 1, 'packed': 2, 'stuff': 1, 'roughly': 1, '\\n': 10, 'hour': 1, 'drive': 2, 'mountains': 1, 'fire': 2, 'fishing': 1, 'talk': 1, 'life': 2, 'got': 3, 'tired': 1, 'stay': 1, 'longer': 1, 'brought': 1, '’': 3, 'dog': 8, 'awesome': 1, 'loves': 1, 'outdoors': 1, 'flipping': 1, 'suv': 1, 'way': 1, 'path': 1, 'knew': 1, 'kick': 1, 'ass': 1, 'day': 1, 'breaking': 1, 'normally': 1, 'lame': 1, 'domesticated': 1, 'drink': 3, 'adventure': 1, 'fine': 1, 'volunteered': 1, 'alcohol': 2, 'mouth': 1, 'wired': 1, 'shut': 1, 'long': 2, 'story': 1, 'playing': 2, 'safe': 1, 'happier': 1, 'jump': 1, 'truck': 1, 'literally': 1, 'owner': 2, 'let': 1, 'run': 1, 'drove': 1, 'dirt': 2, 'road': 2, 'destination': 1, 'driving': 3, 'went': 1, 'vision': 1, 'biting': 2, 'tires': 3, 'dogs': 1, 'kept': 2, 'asking': 1, 'guys': 1, 'said': 1, 'yes': 1, '5': 1, '10': 1, 'mph': 1, 'hear': 1, 'playfully': 1, 'laughed': 1, 'bc': 1, 'thought': 1, 'having': 1, 'fun': 1, 'horrible': 1, 'seconds': 1, 'event': 1, 'ensued': 1, 'feeling': 1, 'dreaded': 1, 'double': 1, 'thud': 1, 'heard': 1, 'yelp': 1, 'pain': 1, 'instantly': 1, 'stopped': 1}\n"
     ]
    }
   ],
   "source": [
    "#Removing stop words and punctuations.\n",
    "#Creating word frequencies.\n",
    "word_frequencies = {}\n",
    "for word in doc:\n",
    "    if word.text.lower() not in stopwords:\n",
    "        if word.text.lower() not in punctuation:\n",
    "            if word.text not in word_frequencies.keys():\n",
    "                word_frequencies[word.text] = 1\n",
    "            else:\n",
    "                word_frequencies[word.text] += 1\n",
    "                \n",
    "print(word_frequencies)"
   ]
  },
  {
   "cell_type": "markdown",
   "id": "9ae43adb-b0be-48f3-8c2f-d06fb7eb1f4d",
   "metadata": {},
   "source": [
    "<font size=\"5\">Normalizing Word Frequencies</font>"
   ]
  },
  {
   "cell_type": "code",
   "execution_count": 96,
   "id": "a8f0ca4d-8bf5-481f-8367-7c8df759eb37",
   "metadata": {},
   "outputs": [
    {
     "name": "stdout",
     "output_type": "stream",
     "text": [
      "10\n"
     ]
    }
   ],
   "source": [
    "max_frequency = max(word_frequencies.values())\n",
    "print(max_frequency)"
   ]
  },
  {
   "cell_type": "code",
   "execution_count": 97,
   "id": "eb017a83-3d79-4415-b64c-1dabdeadaa72",
   "metadata": {},
   "outputs": [
    {
     "name": "stdout",
     "output_type": "stream",
     "text": [
      "{'throwaway': 0.1, 'obvious': 0.1, 'reasons': 0.1, '..': 0.1, 'today': 0.1, 'friends': 0.3, 'decided': 0.2, 'roading': 0.2, 'nowhereland': 0.1, 'packed': 0.2, 'stuff': 0.1, 'roughly': 0.1, '\\n': 1.0, 'hour': 0.1, 'drive': 0.2, 'mountains': 0.1, 'fire': 0.2, 'fishing': 0.1, 'talk': 0.1, 'life': 0.2, 'got': 0.3, 'tired': 0.1, 'stay': 0.1, 'longer': 0.1, 'brought': 0.1, '’': 0.3, 'dog': 0.8, 'awesome': 0.1, 'loves': 0.1, 'outdoors': 0.1, 'flipping': 0.1, 'suv': 0.1, 'way': 0.1, 'path': 0.1, 'knew': 0.1, 'kick': 0.1, 'ass': 0.1, 'day': 0.1, 'breaking': 0.1, 'normally': 0.1, 'lame': 0.1, 'domesticated': 0.1, 'drink': 0.3, 'adventure': 0.1, 'fine': 0.1, 'volunteered': 0.1, 'alcohol': 0.2, 'mouth': 0.1, 'wired': 0.1, 'shut': 0.1, 'long': 0.2, 'story': 0.1, 'playing': 0.2, 'safe': 0.1, 'happier': 0.1, 'jump': 0.1, 'truck': 0.1, 'literally': 0.1, 'owner': 0.2, 'let': 0.1, 'run': 0.1, 'drove': 0.1, 'dirt': 0.2, 'road': 0.2, 'destination': 0.1, 'driving': 0.3, 'went': 0.1, 'vision': 0.1, 'biting': 0.2, 'tires': 0.3, 'dogs': 0.1, 'kept': 0.2, 'asking': 0.1, 'guys': 0.1, 'said': 0.1, 'yes': 0.1, '5': 0.1, '10': 0.1, 'mph': 0.1, 'hear': 0.1, 'playfully': 0.1, 'laughed': 0.1, 'bc': 0.1, 'thought': 0.1, 'having': 0.1, 'fun': 0.1, 'horrible': 0.1, 'seconds': 0.1, 'event': 0.1, 'ensued': 0.1, 'feeling': 0.1, 'dreaded': 0.1, 'double': 0.1, 'thud': 0.1, 'heard': 0.1, 'yelp': 0.1, 'pain': 0.1, 'instantly': 0.1, 'stopped': 0.1}\n"
     ]
    }
   ],
   "source": [
    "#Calculated normalized frequencies\n",
    "for word in word_frequencies.keys():\n",
    "    word_frequencies[word] = word_frequencies[word]/max_frequency\n",
    "print(word_frequencies)"
   ]
  },
  {
   "cell_type": "markdown",
   "id": "5a402f35-f894-4c75-af64-afb38b3f66f6",
   "metadata": {},
   "source": [
    "<font size=\"5\">Sentence tokenization</font>"
   ]
  },
  {
   "cell_type": "code",
   "execution_count": 98,
   "id": "6f20f0d8-53ca-4bb2-a861-417d05611b71",
   "metadata": {},
   "outputs": [
    {
     "name": "stdout",
     "output_type": "stream",
     "text": [
      "[throwaway here for obvious reasons.., today my friends and i decided to go off-roading in nowhereland., we packed up all our stuff, made the roughly\n",
      "hour drive off to the mountains to make a fire, go fishing and just talk about life until we got too tired to stay any longer., we got everything packed\n",
      "up and brought along one of my friends’ dog because she’s awesome and loves the outdoors., the dog was flipping out in the suv on the way to the\n",
      "path because she knew was a kick-ass day she was about to have breaking out of her normally lame, domesticated dog life., my friends decided to\n",
      "drink during the off-roading adventure, which was fine because i volunteered to drive since i cannot drink alcohol (mouth is wired shut, [long story\n",
      "but i can’t drink alcohol for a while]) so we were playing it safe., the dog couldn’t be any happier and was about to jump out of the truck (literally)\n",
      "when we got there so the dog’s owner let her get out and run along side of us while we drove the dirt road up to the destination for the fire., as i was\n",
      "driving, the dog went in and out of vision, mostly biting the tires as most dogs do, playing around., the owner kept asking us (the two guys up front)\n",
      "if we could see her., we said yes, and kept driving., as i was driving at no more than 5-10mph along the dirt road, i could hear the dog biting at the\n",
      "tires playfully, but we just laughed it off bc we thought she was having fun., the horrible, seconds-long event that ensued was me feeling the dreaded\n",
      "’double-thud’ under the tires and heard the dog yelp in pain., i instantly stopped the]\n"
     ]
    }
   ],
   "source": [
    "#Creating Sentence tokens\n",
    "sentence_tokens = [sent for sent in doc.sents]\n",
    "print(sentence_tokens)"
   ]
  },
  {
   "cell_type": "markdown",
   "id": "4c812ae4-5094-4c85-a640-edb0e68b8889",
   "metadata": {},
   "source": [
    "<font size=\"5\">Scoring sentences</font>"
   ]
  },
  {
   "cell_type": "code",
   "execution_count": 99,
   "id": "5a479ea5-4b1e-4af9-adbc-c9a31149b4dd",
   "metadata": {},
   "outputs": [
    {
     "name": "stdout",
     "output_type": "stream",
     "text": [
      "{throwaway here for obvious reasons..: 0.4, today my friends and i decided to go off-roading in nowhereland.: 0.9, we packed up all our stuff, made the roughly\n",
      "hour drive off to the mountains to make a fire, go fishing and just talk about life until we got too tired to stay any longer.: 3.0000000000000004, we got everything packed\n",
      "up and brought along one of my friends’ dog because she’s awesome and loves the outdoors.: 3.3000000000000003, the dog was flipping out in the suv on the way to the\n",
      "path because she knew was a kick-ass day she was about to have breaking out of her normally lame, domesticated dog life.: 4.000000000000001, my friends decided to\n",
      "drink during the off-roading adventure, which was fine because i volunteered to drive since i cannot drink alcohol (mouth is wired shut: 3.3000000000000007, [long story\n",
      "but i can’t drink alcohol for a while]) so we were playing it safe.: 2.1, the dog couldn’t be any happier and was about to jump out of the truck (literally)\n",
      "when we got there so the dog’s owner let her get out and run along side of us while we drove the dirt road up to the destination for the fire.: 4.5, as i was\n",
      "driving, the dog went in and out of vision, mostly biting the tires as most dogs do, playing around.: 3.1000000000000005, the owner kept asking us (the two guys up front)\n",
      "if we could see her.: 1.6, we said yes, and kept driving.: 0.7, as i was driving at no more than 5-10mph along the dirt road, i could hear the dog biting at the\n",
      "tires playfully, but we just laughed it off bc we thought she was having fun.: 4.0, the horrible, seconds-long event that ensued was me feeling the dreaded\n",
      "’double-thud’ under the tires and heard the dog yelp in pain.: 4.0, i instantly stopped the: 0.2}\n"
     ]
    }
   ],
   "source": [
    "#Calculating sentence scores\n",
    "sentence_scores = {}\n",
    "for sent in sentence_tokens:\n",
    "    for word in sent:\n",
    "        if word.text.lower() in word_frequencies.keys():\n",
    "            if sent not in sentence_scores.keys():\n",
    "                sentence_scores[sent] = word_frequencies[word.text.lower()]\n",
    "            else:\n",
    "                sentence_scores[sent] += word_frequencies[word.text.lower()]\n",
    "                \n",
    "print(sentence_scores)"
   ]
  },
  {
   "cell_type": "markdown",
   "id": "58599ebe-42b6-4f42-a08b-12e1e5b70d85",
   "metadata": {},
   "source": [
    "<font size=\"5\">Selecting top sentences</font>"
   ]
  },
  {
   "cell_type": "code",
   "execution_count": 100,
   "id": "d802d4d8-8006-483b-90ee-8c8ed170e06c",
   "metadata": {},
   "outputs": [
    {
     "name": "stdout",
     "output_type": "stream",
     "text": [
      "4\n"
     ]
    }
   ],
   "source": [
    "#Selecting 30% top sentences\n",
    "select_length = int(len(sentence_tokens)*0.3)\n",
    "print(select_length)"
   ]
  },
  {
   "cell_type": "code",
   "execution_count": 101,
   "id": "4346b4c8-2454-4456-9566-640ed44c558c",
   "metadata": {},
   "outputs": [
    {
     "name": "stdout",
     "output_type": "stream",
     "text": [
      "[the dog couldn’t be any happier and was about to jump out of the truck (literally)\n",
      "when we got there so the dog’s owner let her get out and run along side of us while we drove the dirt road up to the destination for the fire., the dog was flipping out in the suv on the way to the\n",
      "path because she knew was a kick-ass day she was about to have breaking out of her normally lame, domesticated dog life., as i was driving at no more than 5-10mph along the dirt road, i could hear the dog biting at the\n",
      "tires playfully, but we just laughed it off bc we thought she was having fun., the horrible, seconds-long event that ensued was me feeling the dreaded\n",
      "’double-thud’ under the tires and heard the dog yelp in pain.]\n"
     ]
    }
   ],
   "source": [
    "summary = nlargest(select_length, sentence_scores, key = sentence_scores.get)\n",
    "print(summary)"
   ]
  },
  {
   "cell_type": "code",
   "execution_count": 102,
   "id": "c1ce0416-208d-4c05-8372-037804bd15ab",
   "metadata": {},
   "outputs": [],
   "source": [
    "final_summary = [word.text for word in summary]\n",
    "summary = ' '.join(final_summary)"
   ]
  },
  {
   "cell_type": "code",
   "execution_count": 103,
   "id": "e030c9d4-2005-4d61-bf8a-5a1daba655cf",
   "metadata": {},
   "outputs": [
    {
     "name": "stdout",
     "output_type": "stream",
     "text": [
      "the dog couldn’t be any happier and was about to jump out of the truck (literally)\n",
      "when we got there so the dog’s owner let her get out and run along side of us while we drove the dirt road up to the destination for the fire. the dog was flipping out in the suv on the way to the\n",
      "path because she knew was a kick-ass day she was about to have breaking out of her normally lame, domesticated dog life. as i was driving at no more than 5-10mph along the dirt road, i could hear the dog biting at the\n",
      "tires playfully, but we just laughed it off bc we thought she was having fun. the horrible, seconds-long event that ensued was me feeling the dreaded\n",
      "’double-thud’ under the tires and heard the dog yelp in pain.\n"
     ]
    }
   ],
   "source": [
    "print(summary)"
   ]
  },
  {
   "cell_type": "markdown",
   "id": "5037eedc-638e-4076-86f4-7750b49ff47f",
   "metadata": {},
   "source": [
    "<font size=\"5\">Comparing Lengths</font>"
   ]
  },
  {
   "cell_type": "code",
   "execution_count": 104,
   "id": "c3bf7ab7-8387-495e-b44e-5ddd1cc072a6",
   "metadata": {},
   "outputs": [
    {
     "data": {
      "text/plain": [
       "1571"
      ]
     },
     "execution_count": 104,
     "metadata": {},
     "output_type": "execute_result"
    }
   ],
   "source": [
    "len(text)"
   ]
  },
  {
   "cell_type": "code",
   "execution_count": 105,
   "id": "8d0733af-a486-4aea-b968-59039c92788a",
   "metadata": {},
   "outputs": [
    {
     "data": {
      "text/plain": [
       "709"
      ]
     },
     "execution_count": 105,
     "metadata": {},
     "output_type": "execute_result"
    }
   ],
   "source": [
    "len(summary)"
   ]
  }
 ],
 "metadata": {
  "kernelspec": {
   "display_name": "Python 3 (ipykernel)",
   "language": "python",
   "name": "python3"
  },
  "language_info": {
   "codemirror_mode": {
    "name": "ipython",
    "version": 3
   },
   "file_extension": ".py",
   "mimetype": "text/x-python",
   "name": "python",
   "nbconvert_exporter": "python",
   "pygments_lexer": "ipython3",
   "version": "3.11.7"
  }
 },
 "nbformat": 4,
 "nbformat_minor": 5
}
