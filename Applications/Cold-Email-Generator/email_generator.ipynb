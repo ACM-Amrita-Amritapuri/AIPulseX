{
 "cells": [
  {
   "cell_type": "code",
   "execution_count": 2,
   "metadata": {},
   "outputs": [],
   "source": [
    "from langchain_groq import ChatGroq"
   ]
  },
  {
   "cell_type": "code",
   "execution_count": 3,
   "metadata": {},
   "outputs": [],
   "source": [
    "llm = ChatGroq(\n",
    "    temperature = 0,\n",
    "    groq_api_key = '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',\n",
    "    model_name = \"llama-3.1-70b-versatile\"\n",
    ")"
   ]
  },
  {
   "cell_type": "code",
   "execution_count": 8,
   "metadata": {},
   "outputs": [
    {
     "name": "stdout",
     "output_type": "stream",
     "text": [
      "Apply for Machine Learning Engineer – AI/ML (Remote Work Option)\n",
      "\n",
      "Search JobsSkip navigationSearch JobsNIKE, INC. JOBSContract JobsJoin The Talent CommunityLife @ NikeOverviewBenefitsBrandsOverviewJordanConverseTeamsOverviewAdministrative SupportAdvanced InnovationAir Manufacturing InnovationAviationCommunicationsCustomer ServiceDesignDigitalFacilitiesFinance & AccountingGovernment & Public AffairsHuman ResourcesInsights & AnalyticsLegalManufacturing & EngineeringMarketingMerchandisingPlanningPrivacyProcurementProduct Creation, Development & ManagementRetail CorporateRetail StoresSalesSocial & Community ImpactSports MarketingStrategic PlanningSupply Chain, Distribution & LogisticsSustainabilityTechnologyLocationsOverviewNike WHQNike New York HQEHQ: Hilversum, The NetherlandsELC: Laakdal, BelgiumGreater China HQDiversity, Equity & InclusionOverviewMilitary InclusionDisability InclusionIndigenous InclusionInternshipsData & AnalyticsMachine Learning Engineer – AI/ML (Remote Work Option)Beaverton, OregonBecome a Part of the NIKE, Inc. Team\n",
      "NIKE, Inc. does more than outfit the world’s best athletes. It is a place to explore potential, obliterate boundaries and push out the edges of what can be. The company looks for people who can grow, think, dream and create. Its culture thrives by embracing diversity and rewarding imagination. The brand seeks achievers, leaders and visionaries. At NIKE, Inc. it’s about each person bringing skills and passion to a challenging and constantly evolving game.Open to remote work except in South Dakota, Vermont and West Virginia.The annual base salary for this position ranges from $82,900.00 in our lowest geographic market to $185,700.00 in our highest geographic market. Actual salary will vary based on a candidate's location, qualifications, skills and experience.Information about benefits can be found here. Who are we looking forWe are actively seeking to hire multiple Machine Learning Engineers to join our AI/ML team. As a Machine Learning Engineer within the AI/ML team, you will be developing advanced analytics systems that directly impact our business. You will work on a cross-disciplinary team (data/API/infra/infosec/ML) to enable data-driven decision making across multiple organizations.Working at the intersection of machine learning and software engineering (i.e., MLOps), you’ll create high-quality solutions that power Nike. You will work with others who are energized by the challenge of building things from the ground up, thinking out of the box, and applying the latest technologies in statistical, unsupervised, supervised, and machine learning models at global scale.Our teams enjoy a collaborative and academic environment that promotes developing new skills, mentorship, and a drive to deliver knowledge and software back to analytics and engineering communities, within and Nike and without. This culture is cultivated by intellectual curiosity, fun, openness, and diversity.Sound like you?Who will you work withAI/ML is one of the key groups within Data and Analytics. We’re chartered to scale machine learning and AI at Nike. For areas of the business early in their analytics journey, we embed cross-disciplinary teams of data scientists and engineers to unlock new capabilities and answer unsolved (or unasked!) questions.In mature areas with preexisting data science teams, we help scale machine learning by attaching engineering squads to grow their capacity to deliver for the business. In addition, we collaborate closely with platform and architecture partners to develop capabilities that simplify machine learning at scale within Nike (e.g., model management, A/B testing, feature stores).Essential Job Functions:Serve as an integral member of a cross-functional engineering teams that delivers solutions unlocking machine learning for Nike. You will analyze and profile data to uncover insights in support of scalable solutions, clean, prepare and verify the integrity of data for analysis and model creation. You’ll also track model accuracy, performance, relevance, and reliability. You will apply a variety of machine learning and collaborative filtering methods to data sets. You will aid in building APIs and software libraries that support adoption of models in productionLeverage your prior experience, knowledge of industry trends, and personal creativity to develop new and innovative solutions which delight our customers in their mission to serve Athletes*.Stay current with industry trends and recommend relevant technologies & products in the areas of Analytics, Machine Learning, Artificial Intelligence, and Data Science tools and other emerging technologies. Given the rapid pace of change in technology and machine learning today, always be pushing the boundary of what’s possible and be on the offense always.Embrace and embody Nike’s core values (maxims) in your work and interactions with peers and stakeholders. Communicate effectively, building trust and strong relationships across the company, do the right thing.What you bring to NikeBachelor’s degree in a relevant field, like computer science or software engineering, or equivalent experience.Understanding of Machine Learning, its applications, and the lifecycle of an ML application in production; including an ability to articulate the role of MLOps in model development from experimentation to production and measurementAn ability to meaningfully communicate, written, orally, and visually technical topics with peers and articulate the benefits and tradeoffs of various solutionsExperience working in and/or collaborating with a partial or fully distributed teamUnderstanding of data structures, algorithms, and data solutionsExperience in applying Python (or another language commonly used in the field of ML, such as Scala, Julia, C++) and SQL to ML and/or software and data engineering tasksFamiliarity with ETL, ML, or analytics technologies such as Scikit-learn, Pandas, OpenCV, NumPy, TensorFlow, or similar platforms and frameworksAwareness of data science platforms (like Databricks or SageMaker), distributed engines (like Spark and AWS cloud), and CI/CD pipelines and containerization are preferredFluency in the application of open-source technologies and the potential of standardized platforms in the area of Data Science, AI, & ML.Nice to have: an interest in the potential of Generative AI to accelerate common development and data science tasks, or the deployment of Generative AI solutions in the enterpriseNIKE, Inc. is a growth company that looks for team members to grow with it. Nike offers a generous total rewards package, casual work environment, a diverse and inclusive culture, and an electric atmosphere for professional development. No matter the location, or the role, every Nike employee shares one galvanizing mission: To bring inspiration and innovation to every athlete* in the world.NIKE, Inc. is committed to employing a diverse workforce. Qualified applicants will receive consideration without regard to race, color, religion, sex, national origin, age, sexual orientation, gender identity, gender expression, veteran status, or disability.How We HireAt NIKE, Inc. we promise to provide a premium, inclusive, compelling and authentic candidate experience. Delivering on this promise means we allow you to be at your best — and to do that, you need to understand how the hiring process works. Transparency is key.\n",
      "\n",
      "* This overview explains our hiring process for corporate roles. Note there may be different hiring steps involved for non-corporate roles.Start nowBenefitsWhether it’s transportation or financial health, we continually invest in our employees to help them achieve greatness — inside and outside of work. All who work here should be able to realize their full potential.Employee Assistance ProgramEmployee Stock Purchase Plan (ESPP)HolidaysMedical PlanPaid Time Off (PTO)Product DiscountsSabbaticalsLearn moreFIND A STOREBECOME A MEMBERSIGN UP FOR EMAILSEND US FEEDBACKSTUDENT DISCOUNTSGET HELPGET HELPOrder StatusDeliveryReturnsPayment OptionsContact Us On Nike.com InquiriesContact Us On All Other InquiriesABOUT NIKEABOUT NIKENewsCareersInvestorsSustainabilityIndia© 2024 Nike, Inc. All Rights ReservedGuidesNike AdaptNike Air MaxNike FlyleatherNike PegasusNike Zoom FlyNike AirNike FlyEaseNike FreeNike ReactNike ZoomXNike Air Force 1Nike FlyknitNike JoyrideNike VaporflyTerms of SaleTerms of UseNike Privacy Policy\n"
     ]
    }
   ],
   "source": [
    "from langchain_community.document_loaders import WebBaseLoader\n",
    "\n",
    "loader = WebBaseLoader(\"https://jobs.nike.com/job/R-31388?from=job%20search%20funnel\")\n",
    "page_data = loader.load().pop().page_content\n",
    "print(page_data)"
   ]
  },
  {
   "cell_type": "code",
   "execution_count": 11,
   "metadata": {},
   "outputs": [
    {
     "data": {
      "text/plain": [
       "str"
      ]
     },
     "execution_count": 11,
     "metadata": {},
     "output_type": "execute_result"
    }
   ],
   "source": [
    "from langchain_core.prompts import PromptTemplate\n",
    "\n",
    "prompt_extract = PromptTemplate.from_template(\n",
    "    \"\"\"\n",
    "    ### SCRAPED TEXT FROM WEBSITE:\n",
    "    {page_data}\n",
    "    ###INSTRUCTION:\n",
    "    The scraped test is from the career's page of a website.\n",
    "    Your job is to extract the job postings and return them in JSON formate containing\n",
    "    the following keys: 'role', 'experience', 'skills' and 'description'. \n",
    "    Only return the valid JSON.\n",
    "    ### VALID JSON (NO PREAMBLE):\n",
    "    \"\"\"\n",
    ")\n",
    "\n",
    "chain_extract = prompt_extract | llm\n",
    "res = chain_extract.invoke(input = {'page_data': page_data})\n",
    "type(res.content)"
   ]
  },
  {
   "cell_type": "code",
   "execution_count": 13,
   "metadata": {},
   "outputs": [
    {
     "data": {
      "text/plain": [
       "dict"
      ]
     },
     "execution_count": 13,
     "metadata": {},
     "output_type": "execute_result"
    }
   ],
   "source": [
    "from langchain_core.output_parsers import JsonOutputParser\n",
    "\n",
    "json_parser = JsonOutputParser()\n",
    "json_res = json_parser.parse(res.content)\n",
    "type(json_res)"
   ]
  },
  {
   "cell_type": "code",
   "execution_count": 15,
   "metadata": {},
   "outputs": [],
   "source": [
    "import pandas as pd\n",
    "\n",
    "df = pd.read_csv(\"my_portfolio.csv\")"
   ]
  },
  {
   "cell_type": "code",
   "execution_count": 17,
   "metadata": {},
   "outputs": [],
   "source": [
    "import chromadb\n",
    "import uuid\n",
    "\n",
    "client = chromadb.PersistentClient('vecorstore')\n",
    "collection = client.get_or_create_collection(name = 'portfolio')\n",
    "\n",
    "if not collection.count():\n",
    "    for _, row in df.iterrows():\n",
    "        collection.add(documents = row[\"Techstack\"],\n",
    "                        metadatas = {\"links\": row[\"Links\"]},\n",
    "                        ids = [str(uuid.uuid4())])"
   ]
  },
  {
   "cell_type": "code",
   "execution_count": 22,
   "metadata": {},
   "outputs": [],
   "source": [
    "job = json_res"
   ]
  },
  {
   "cell_type": "code",
   "execution_count": 23,
   "metadata": {},
   "outputs": [
    {
     "data": {
      "text/plain": [
       "[[{'links': 'https://example.com/ml-python-portfolio'},\n",
       "  {'links': 'https://example.com/magento-portfolio'}],\n",
       " [{'links': 'https://example.com/devops-portfolio'},\n",
       "  {'links': 'https://example.com/xamarin-portfolio'}],\n",
       " [{'links': 'https://example.com/magento-portfolio'},\n",
       "  {'links': 'https://example.com/ml-python-portfolio'}],\n",
       " [{'links': 'https://example.com/ml-python-portfolio'},\n",
       "  {'links': 'https://example.com/python-portfolio'}],\n",
       " [{'links': 'https://example.com/ml-python-portfolio'},\n",
       "  {'links': 'https://example.com/python-portfolio'}],\n",
       " [{'links': 'https://example.com/devops-portfolio'},\n",
       "  {'links': 'https://example.com/ml-python-portfolio'}]]"
      ]
     },
     "execution_count": 23,
     "metadata": {},
     "output_type": "execute_result"
    }
   ],
   "source": [
    "links = collection.query(query_texts = job['skills'], n_results = 2).get('metadatas')\n",
    "links"
   ]
  },
  {
   "cell_type": "code",
   "execution_count": 26,
   "metadata": {},
   "outputs": [
    {
     "name": "stdout",
     "output_type": "stream",
     "text": [
      "Subject: Application for Machine Learning Engineer – AI/ML Position\n",
      "\n",
      "Dear Hiring Manager,\n",
      "\n",
      "I am excited to apply for the Machine Learning Engineer – AI/ML position at your esteemed organization. As a recent undergraduate student in Artificial Intelligence from Amrita Vishwa Vidyapeetham, I am confident that my skills and experience make me an ideal candidate for this role.\n",
      "\n",
      "Throughout my undergraduate course, I have gained a solid understanding of machine learning, its applications, and the lifecycle of an ML application in production. I have worked on various projects that involve developing advanced analytics systems, which I believe will directly impact your business. My experience in collaborating with cross-disciplinary teams has also prepared me to work with data/API/infra/infosec/ML teams to enable data-driven decision making across multiple organizations.\n",
      "\n",
      "I have hands-on experience in applying Python to ML and software engineering tasks, and I am familiar with ETL, ML, or analytics technologies such as Scikit-learn, Pandas, OpenCV, NumPy, and TensorFlow. My understanding of data structures, algorithms, and data solutions has been strengthened through various projects and assignments.\n",
      "\n",
      "I would like to highlight some of my relevant projects that demonstrate my capabilities:\n",
      "\n",
      "* Machine Learning with Python: https://example.com/ml-python-portfolio\n",
      "* Python Portfolio: https://example.com/python-portfolio\n",
      "\n",
      "These projects showcase my expertise in machine learning, natural language processing, and other domains. I am confident that my skills and experience align with your requirements, and I am excited about the opportunity to contribute to your team.\n",
      "\n",
      "I am particularly drawn to this role because of the opportunity to work on advanced analytics systems that directly impact the business. I am impressed by your organization's commitment to innovation and excellence, and I am excited about the prospect of being part of a team that is shaping the future of AI/ML.\n",
      "\n",
      "Thank you for considering my application. I would welcome the opportunity to discuss my qualifications further and explain in greater detail why I am the ideal candidate for this role. Please feel free to contact me at your convenience.\n",
      "\n",
      "Best regards,\n",
      "\n",
      "Kaushik\n"
     ]
    }
   ],
   "source": [
    "prompt_email = PromptTemplate.from_template(\n",
    "    \"\"\"\n",
    "    ### JOB DESCRIPTION:\n",
    "    {job_description}\n",
    "    \n",
    "    ### INSTRUCTION:\n",
    "    You are Kaushik, you are an undergrad student studying at Amrita Vishwa Vidyapeetham. You did bachelors in Artificial Intelligence.You did projects in various domains like machine learning, natural language processing and various other domains.\n",
    "    Your job is to write a cold email to the client regarding the job mentioned above describing the capability in fullfilling \n",
    "    their needs. Also mention about your learnings throughout your undergrad course.\n",
    "    Also add the most relevant ones from the following links to showcase Kaushik's from his portfolio: {link_list}\n",
    "    Remember you are Kaushik, student at Amrita Vishwa Vidyapeetham.\n",
    "    Do not provide a preamble.\n",
    "    ### EMAIL (NO PREAMBLE):\n",
    "    \"\"\"\n",
    ")\n",
    "\n",
    "chain_email = prompt_email | llm\n",
    "res = chain_email.invoke({\"job_description\": str(job), \"link_list\": links})\n",
    "print(res.content)"
   ]
  }
 ],
 "metadata": {
  "kernelspec": {
   "display_name": "Python 3",
   "language": "python",
   "name": "python3"
  },
  "language_info": {
   "codemirror_mode": {
    "name": "ipython",
    "version": 3
   },
   "file_extension": ".py",
   "mimetype": "text/x-python",
   "name": "python",
   "nbconvert_exporter": "python",
   "pygments_lexer": "ipython3",
   "version": "3.12.2"
  }
 },
 "nbformat": 4,
 "nbformat_minor": 2
}
