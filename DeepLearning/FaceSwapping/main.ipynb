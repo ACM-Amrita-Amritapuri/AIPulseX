{
 "cells": [
  {
   "cell_type": "code",
   "execution_count": null,
   "metadata": {},
   "outputs": [],
   "source": [
    "import cv2\n",
    "import numpy as np\n",
    "import mediapipe as mp\n",
    "import matplotlib.pyplot as plt\n",
    "import pandas as pd\n",
    "import numpy as np"
   ]
  },
  {
   "cell_type": "code",
   "execution_count": null,
   "metadata": {},
   "outputs": [],
   "source": [
    "img = cv2.imread(\"image1.jpg\")\n",
    "mp_facemsh = mp.solutions.face_mesh\n",
    "face_mesh = mp_facemsh.FaceMesh(static_image_mode = True,refine_landmarks=True)\n",
    "img.shape"
   ]
  },
  {
   "cell_type": "code",
   "execution_count": null,
   "metadata": {},
   "outputs": [],
   "source": [
    "results = face_mesh.process(img)"
   ]
  },
  {
   "cell_type": "code",
   "execution_count": null,
   "metadata": {},
   "outputs": [],
   "source": [
    "landmarks = results.multi_face_landmarks[0]"
   ]
  },
  {
   "cell_type": "code",
   "execution_count": null,
   "metadata": {},
   "outputs": [],
   "source": [
    "face_oval = mp_facemsh.FACEMESH_FACE_OVAL\n",
    "df = pd.DataFrame(list(face_oval),columns=[\"p1\",\"p2\"])"
   ]
  },
  {
   "cell_type": "code",
   "execution_count": null,
   "metadata": {},
   "outputs": [],
   "source": [
    "routes_idx = []\n",
    "\n",
    "p1 = df.iloc[0][\"p1\"]\n",
    "p2 = df.iloc[0][\"p2\"]\n",
    "for i in range(0,df.shape[0]):\n",
    "    obj = df[df[\"p1\"]==p2]\n",
    "    p1 = obj[\"p1\"].values[0]\n",
    "    p2 = obj[\"p2\"].values[0]\n",
    "    current_route = []\n",
    "    current_route.append(p1)\n",
    "    current_route.append(p2)\n",
    "    routes_idx.append(current_route)"
   ]
  },
  {
   "cell_type": "code",
   "execution_count": null,
   "metadata": {},
   "outputs": [],
   "source": [
    "routes = []\n",
    " \n",
    "for source_idx, target_idx in routes_idx:\n",
    "     \n",
    "    source = landmarks.landmark[source_idx]\n",
    "    target = landmarks.landmark[target_idx]\n",
    "         \n",
    "    relative_source = (int(img.shape[1] * source.x), int(img.shape[0] * source.y))\n",
    "    relative_target = (int(img.shape[1] * target.x), int(img.shape[0] * target.y))\n",
    " \n",
    "    #cv2.line(img, relative_source, relative_target, (255, 255, 255), thickness = 2)\n",
    "     \n",
    "    routes.append(relative_source)\n",
    "    # routes.append(relative_target)\n",
    "print(len(routes))"
   ]
  },
  {
   "cell_type": "code",
   "execution_count": null,
   "metadata": {},
   "outputs": [],
   "source": [
    "mask = np.zeros((img.shape[0],img.shape[1]))\n",
    "mask = cv2.fillConvexPoly(mask,np.array(routes),1)\n",
    "mask = mask.astype(bool)\n",
    "out = np.zeros_like(img)\n",
    "out[mask] = img[mask]\n"
   ]
  },
  {
   "cell_type": "code",
   "execution_count": null,
   "metadata": {},
   "outputs": [],
   "source": [
    "plt.imshow(out[:,:,::-1])"
   ]
  },
  {
   "cell_type": "code",
   "execution_count": null,
   "metadata": {},
   "outputs": [],
   "source": [
    "# Delaunay Triangulation\n",
    "rect = cv2.boundingRect(np.array(routes))\n",
    "# (x,y,w,h)  =rect\n",
    "# cv2.rectangle(img,(x,y),(x+w,y+h),(0,255,0))\n",
    "subdiv = cv2.Subdiv2D(rect)\n",
    "subdiv.insert(routes)\n",
    "triangles = subdiv.getTriangleList()\n",
    "triangles = np.array(triangles, dtype = int)\n",
    "for t in triangles:\n",
    "    pt1 = (t[0],t[1])\n",
    "    pt2 = (t[2],t[3])\n",
    "    pt3 = (t[4],t[5])\n",
    "\n",
    "    # cv2.line(img, pt1, pt2, (0, 0, 255), 1, cv2.LINE_AA, 0)\n",
    "    # cv2.line(img, pt2, pt3, (0, 0, 255), 1, cv2.LINE_AA, 0)\n",
    "    # cv2.line(img, pt3, pt1, (0, 0, 255), 1, cv2.LINE_AA, 0)\n",
    "\n",
    "\n",
    "plt.imshow(img[:,:,::-1])"
   ]
  },
  {
   "cell_type": "code",
   "execution_count": null,
   "metadata": {},
   "outputs": [],
   "source": [
    "def extract_index(nparray):\n",
    "    return nparray[0][0]\n",
    "routes = np.array(routes,np.int32)\n",
    "\n",
    "triangle_indexes = []\n",
    "for t in triangles:\n",
    "    pt1 = (t[0],t[1])\n",
    "    pt2 = (t[2],t[3])\n",
    "    pt3 = (t[4],t[5])\n",
    "\n",
    "    index_p1 = np.where((routes == pt1).all(axis=1))\n",
    "    index_p1 = extract_index(index_p1)\n",
    "\n",
    "    index_p2 = np.where((routes == pt2).all(axis=1))\n",
    "    index_p2 = extract_index(index_p2)\n",
    "\n",
    "    index_p3 = np.where((routes == pt3).all(axis=1))\n",
    "    index_p3 = extract_index(index_p3)\n",
    "    \n",
    "    \n",
    "\n",
    "    if index_p1 is not None and index_p2 is not None and index_p3 is not None:\n",
    "        triangle = [index_p1,index_p2,index_p3]\n",
    "        triangle_indexes.append(triangle)\n"
   ]
  },
  {
   "cell_type": "code",
   "execution_count": null,
   "metadata": {},
   "outputs": [],
   "source": [
    "img2 = cv2.imread(\"image2.jpeg\")\n",
    "results2 = face_mesh.process(img2)\n",
    "landmarks2 = results2.multi_face_landmarks[0]\n",
    "\n",
    "routes2 = []\n",
    " \n",
    "for source_idx, target_idx in routes_idx:\n",
    "     \n",
    "    source = landmarks2.landmark[source_idx]\n",
    "    target = landmarks2.landmark[target_idx]\n",
    "         \n",
    "    relative_source = (int(img2.shape[1] * source.x), int(img2.shape[0] * source.y))\n",
    "    relative_target = (int(img2.shape[1] * target.x), int(img2.shape[0] * target.y))\n",
    " \n",
    "    #cv2.line(img, relative_source, relative_target, (255, 255, 255), thickness = 2)\n",
    "     \n",
    "    routes2.append(relative_source)\n",
    "\n",
    "    # routes.append(relative_target)\n",
    "\n",
    "points2 = np.array(routes2,np.int32)\n",
    "convexhull2 = cv2.convexHull(points2)\n",
    "# 2nd image Traingulation\n",
    "\n",
    "for triangle_index in triangle_indexes:\n",
    "    pt1 = routes2[triangle_index[0]]\n",
    "    pt2 = routes2[triangle_index[1]]\n",
    "    pt3 = routes2[triangle_index[2]]\n",
    "\n",
    "    # cv2.line(img2, pt1, pt2, (0, 0, 255), 1, cv2.LINE_AA, 0)\n",
    "    # cv2.line(img2, pt2, pt3, (0, 0, 255), 1, cv2.LINE_AA, 0)\n",
    "    # cv2.line(img2, pt3, pt1, (0, 0, 255), 1, cv2.LINE_AA, 0)\n",
    "\n",
    "plt.imshow(img2[:,:,::-1])\n",
    "    \n"
   ]
  },
  {
   "cell_type": "code",
   "execution_count": null,
   "metadata": {},
   "outputs": [],
   "source": [
    "img2_new_face = np.zeros_like(img2)"
   ]
  },
  {
   "cell_type": "code",
   "execution_count": null,
   "metadata": {},
   "outputs": [],
   "source": [
    "img2_new_face = np.zeros_like(img2,dtype=np.uint8)\n",
    "count = 0\n",
    "for triangle_index in triangle_indexes:\n",
    "    tr1_pt1 = routes[triangle_index[0]]\n",
    "    tr1_pt2 = routes[triangle_index[1]]\n",
    "    tr1_pt3 = routes[triangle_index[2]]\n",
    "\n",
    "    triangle1 = np.array([tr1_pt1, tr1_pt2, tr1_pt3], np.int32)\n",
    "    rect1 = cv2.boundingRect(triangle1)\n",
    "    (x1, y1, w1, h1) = rect1\n",
    "\n",
    "    cropped_triangle1 = img[y1:y1 + h1, x1:x1 + w1]\n",
    "    cropped_triangle1_mask = np.zeros((h1, w1), np.uint8)\n",
    "\n",
    "    points1 = np.array([[tr1_pt1[0] - x1, tr1_pt1[1] - y1],\n",
    "                        [tr1_pt2[0] - x1, tr1_pt2[1] - y1],\n",
    "                        [tr1_pt3[0] - x1, tr1_pt3[1] - y1]], int)\n",
    "\n",
    "    cv2.fillConvexPoly(cropped_triangle1_mask, points1, 255)\n",
    "    cropped_triangle1 = cv2.bitwise_and(cropped_triangle1, cropped_triangle1, mask=cropped_triangle1_mask)\n",
    "\n",
    "    tr2_pt1 = routes2[triangle_index[0]]\n",
    "    tr2_pt2 = routes2[triangle_index[1]]\n",
    "    tr2_pt3 = routes2[triangle_index[2]]\n",
    "\n",
    "    triangle2 = np.array([tr2_pt1, tr2_pt2, tr2_pt3], np.int32)\n",
    "    rect2 = cv2.boundingRect(triangle2)\n",
    "    (x2, y2, w2, h2) = rect2\n",
    "\n",
    "    cropped_triangle2_mask = np.zeros((h2, w2), np.uint8)\n",
    "\n",
    "    points2 = np.array([[tr2_pt1[0] - x2, tr2_pt1[1] - y2],\n",
    "                        [tr2_pt2[0] - x2, tr2_pt2[1] - y2],\n",
    "                        [tr2_pt3[0] - x2, tr2_pt3[1] - y2]], int)\n",
    "\n",
    "    cv2.fillConvexPoly(cropped_triangle2_mask, points2, 255)\n",
    "\n",
    "    # Warp Triangle\n",
    "    points1 = np.float32(points1)\n",
    "    points2 = np.float32(points2)\n",
    "    M = cv2.getAffineTransform(points1, points2)\n",
    "    warped_triangle = cv2.warpAffine(cropped_triangle1, M, (w2, h2))\n",
    "    #smooth edges\n",
    "    warped_triangle = cv2.GaussianBlur(warped_triangle, (5,5), sigmaX=0.2, sigmaY=1)\n",
    "    # _, mask_triangles_designed = cv2.threshold(img2_new_face[y2:y2+h2,x2:x2+w2], 1, 255, cv2.THRESH_BINARY_INV)\n",
    "    # warped_triangle = cv2.bitwise_and(warped_triangle, warped_triangle, mask=mask_triangles_designed)\n",
    "    # plt.imshow(warped_triangle[:,:,::-1])\n",
    "    # plt.show()\n",
    "    \n",
    "\n",
    "    # Blend the warped triangle into the new face\n",
    "    mask_triangle_area = cv2.bitwise_and(warped_triangle, warped_triangle, mask=cropped_triangle2_mask)\n",
    "    img2_new_face[y2:y2 + h2, x2:x2 + w2] = cv2.add(img2_new_face[y2:y2 + h2, x2:x2 + w2], mask_triangle_area)\n",
    "    count = count + 1\n",
    "    # if count == 5:\n",
    "\n",
    "    #     break\n",
    "\n",
    "# Final steps\n",
    "img2_new_face_gray = cv2.cvtColor(img2_new_face, cv2.COLOR_BGR2GRAY)\n",
    "_, background = cv2.threshold(img2_new_face_gray, 1, 255, cv2.THRESH_BINARY_INV)\n",
    "background = cv2.bitwise_and(img2, img2, mask=background)\n",
    "final_result = cv2.add(img2_new_face, background)\n",
    "\n",
    "plt.imshow(final_result[:, :, ::-1])\n",
    "plt.show()\n"
   ]
  },
  {
   "cell_type": "code",
   "execution_count": null,
   "metadata": {},
   "outputs": [],
   "source": [
    "img2_grey = cv2.cvtColor(img2,cv2.COLOR_BGR2GRAY)\n",
    "img2_face_mask = np.zeros_like(img2_grey)\n",
    "img2_head_mask = cv2.fillConvexPoly(img2_face_mask, convexhull2, 255)\n",
    "img2_face_mask = cv2.bitwise_not(img2_head_mask)\n",
    "\n",
    "\n",
    "img2_head_noface = cv2.bitwise_and(img2, img2, mask=img2_face_mask)\n",
    "result = cv2.add(img2_head_noface, img2_new_face)\n",
    "\n",
    "(x, y, w, h) = cv2.boundingRect(convexhull2)\n",
    "center_face2 = (int((x + x + w) / 2), int((y + y + h) / 2))\n",
    "\n",
    "seamlessclone = cv2.seamlessClone(result, img2, img2_head_mask, center_face2, cv2.NORMAL_CLONE)\n",
    "\n",
    "plt.imshow(seamlessclone[:,:,::-1])\n",
    "# plt.imshow(img2_face_mask)"
   ]
  }
 ],
 "metadata": {
  "kernelspec": {
   "display_name": "Python 3",
   "language": "python",
   "name": "python3"
  },
  "language_info": {
   "codemirror_mode": {
    "name": "ipython",
    "version": 3
   },
   "file_extension": ".py",
   "mimetype": "text/x-python",
   "name": "python",
   "nbconvert_exporter": "python",
   "pygments_lexer": "ipython3",
   "version": "3.10.9"
  }
 },
 "nbformat": 4,
 "nbformat_minor": 2
}
