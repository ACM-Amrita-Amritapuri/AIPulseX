{
  "cells": [
    {
      "cell_type": "code",
      "execution_count": 21,
      "metadata": {
        "id": "8nl2EUd6A70M"
      },
      "outputs": [],
      "source": [
        "import numpy as np\n",
        "import pandas as pd\n",
        "import warnings\n",
        "import matplotlib.pyplot as plt\n",
        "from sklearn.linear_model import LinearRegression\n",
        "from sklearn.neighbors import KNeighborsRegressor\n",
        "from sklearn.ensemble import RandomForestRegressor\n",
        "from sklearn.preprocessing import LabelEncoder\n",
        "from sklearn.preprocessing import OneHotEncoder\n",
        "from sklearn.preprocessing import StandardScaler\n",
        "from sklearn.model_selection import train_test_split\n",
        "from sklearn import metrics\n",
        "from sklearn.metrics import mean_absolute_error, mean_squared_error, r2_score\n",
        "import seaborn as sns\n",
        "from sklearn.model_selection import KFold,GridSearchCV"
      ]
    },
    {
      "cell_type": "code",
      "execution_count": 22,
      "metadata": {
        "colab": {
          "base_uri": "https://localhost:8080/",
          "height": 206
        },
        "id": "ZRZ7viC_A70Q",
        "outputId": "181b5485-4108-41b1-a162-471e8e04dc4d"
      },
      "outputs": [
        {
          "data": {
            "text/html": [
              "<div>\n",
              "<style scoped>\n",
              "    .dataframe tbody tr th:only-of-type {\n",
              "        vertical-align: middle;\n",
              "    }\n",
              "\n",
              "    .dataframe tbody tr th {\n",
              "        vertical-align: top;\n",
              "    }\n",
              "\n",
              "    .dataframe thead th {\n",
              "        text-align: right;\n",
              "    }\n",
              "</style>\n",
              "<table border=\"1\" class=\"dataframe\">\n",
              "  <thead>\n",
              "    <tr style=\"text-align: right;\">\n",
              "      <th></th>\n",
              "      <th>age</th>\n",
              "      <th>sex</th>\n",
              "      <th>bmi</th>\n",
              "      <th>smoker</th>\n",
              "      <th>region</th>\n",
              "      <th>children</th>\n",
              "      <th>charges</th>\n",
              "    </tr>\n",
              "  </thead>\n",
              "  <tbody>\n",
              "    <tr>\n",
              "      <th>0</th>\n",
              "      <td>21.000000</td>\n",
              "      <td>male</td>\n",
              "      <td>25.745000</td>\n",
              "      <td>no</td>\n",
              "      <td>northeast</td>\n",
              "      <td>2</td>\n",
              "      <td>3279.868550</td>\n",
              "    </tr>\n",
              "    <tr>\n",
              "      <th>1</th>\n",
              "      <td>36.976978</td>\n",
              "      <td>female</td>\n",
              "      <td>25.744165</td>\n",
              "      <td>yes</td>\n",
              "      <td>southeast</td>\n",
              "      <td>3</td>\n",
              "      <td>21454.494239</td>\n",
              "    </tr>\n",
              "    <tr>\n",
              "      <th>2</th>\n",
              "      <td>18.000000</td>\n",
              "      <td>male</td>\n",
              "      <td>30.030000</td>\n",
              "      <td>no</td>\n",
              "      <td>southeast</td>\n",
              "      <td>1</td>\n",
              "      <td>1720.353700</td>\n",
              "    </tr>\n",
              "    <tr>\n",
              "      <th>3</th>\n",
              "      <td>37.000000</td>\n",
              "      <td>male</td>\n",
              "      <td>30.676891</td>\n",
              "      <td>no</td>\n",
              "      <td>northeast</td>\n",
              "      <td>3</td>\n",
              "      <td>6801.437542</td>\n",
              "    </tr>\n",
              "    <tr>\n",
              "      <th>4</th>\n",
              "      <td>58.000000</td>\n",
              "      <td>male</td>\n",
              "      <td>32.010000</td>\n",
              "      <td>no</td>\n",
              "      <td>southeast</td>\n",
              "      <td>1</td>\n",
              "      <td>11946.625900</td>\n",
              "    </tr>\n",
              "  </tbody>\n",
              "</table>\n",
              "</div>"
            ],
            "text/plain": [
              "         age     sex        bmi smoker     region  children       charges\n",
              "0  21.000000    male  25.745000     no  northeast         2   3279.868550\n",
              "1  36.976978  female  25.744165    yes  southeast         3  21454.494239\n",
              "2  18.000000    male  30.030000     no  southeast         1   1720.353700\n",
              "3  37.000000    male  30.676891     no  northeast         3   6801.437542\n",
              "4  58.000000    male  32.010000     no  southeast         1  11946.625900"
            ]
          },
          "execution_count": 22,
          "metadata": {},
          "output_type": "execute_result"
        }
      ],
      "source": [
        "df1 = pd.read_csv(\"Train_Data.csv\")\n",
        "df1.head()\n"
      ]
    },
    {
      "cell_type": "code",
      "execution_count": 23,
      "metadata": {
        "colab": {
          "base_uri": "https://localhost:8080/"
        },
        "id": "UhtKBfGWA70S",
        "outputId": "1415c450-0578-4279-d223-302f3925cd73"
      },
      "outputs": [
        {
          "data": {
            "text/plain": [
              "age         0\n",
              "sex         0\n",
              "bmi         0\n",
              "smoker      0\n",
              "region      0\n",
              "children    0\n",
              "charges     0\n",
              "dtype: int64"
            ]
          },
          "execution_count": 23,
          "metadata": {},
          "output_type": "execute_result"
        }
      ],
      "source": [
        "df1.isna().sum()"
      ]
    },
    {
      "cell_type": "code",
      "execution_count": 24,
      "metadata": {
        "colab": {
          "base_uri": "https://localhost:8080/"
        },
        "id": "mlL_AJXkA70S",
        "outputId": "090bb11e-794b-4e98-bd0f-a260de6740e2"
      },
      "outputs": [
        {
          "name": "stdout",
          "output_type": "stream",
          "text": [
            "<class 'pandas.core.frame.DataFrame'>\n",
            "RangeIndex: 3630 entries, 0 to 3629\n",
            "Data columns (total 7 columns):\n",
            " #   Column    Non-Null Count  Dtype  \n",
            "---  ------    --------------  -----  \n",
            " 0   age       3630 non-null   float64\n",
            " 1   sex       3630 non-null   object \n",
            " 2   bmi       3630 non-null   float64\n",
            " 3   smoker    3630 non-null   object \n",
            " 4   region    3630 non-null   object \n",
            " 5   children  3630 non-null   int64  \n",
            " 6   charges   3630 non-null   float64\n",
            "dtypes: float64(3), int64(1), object(3)\n",
            "memory usage: 198.6+ KB\n"
          ]
        }
      ],
      "source": [
        "df1.info()"
      ]
    },
    {
      "cell_type": "code",
      "execution_count": 25,
      "metadata": {
        "id": "XaWsioLdA70T"
      },
      "outputs": [],
      "source": [
        "encoder1 = LabelEncoder()\n",
        "\n",
        "catagorical_columns = ['sex','smoker']\n",
        "for i in catagorical_columns:\n",
        "  df1[i] = encoder1.fit_transform(df1[i])\n",
        "\n",
        "\n",
        "encoder2 = OneHotEncoder()\n",
        "df1= pd.get_dummies(df1, columns=['region'])"
      ]
    },
    {
      "cell_type": "code",
      "execution_count": 26,
      "metadata": {
        "colab": {
          "base_uri": "https://localhost:8080/",
          "height": 206
        },
        "id": "qrO3cJEJA70U",
        "outputId": "e20e2615-c21a-4044-baf1-fa6e38b4ffd9"
      },
      "outputs": [
        {
          "data": {
            "text/html": [
              "<div>\n",
              "<style scoped>\n",
              "    .dataframe tbody tr th:only-of-type {\n",
              "        vertical-align: middle;\n",
              "    }\n",
              "\n",
              "    .dataframe tbody tr th {\n",
              "        vertical-align: top;\n",
              "    }\n",
              "\n",
              "    .dataframe thead th {\n",
              "        text-align: right;\n",
              "    }\n",
              "</style>\n",
              "<table border=\"1\" class=\"dataframe\">\n",
              "  <thead>\n",
              "    <tr style=\"text-align: right;\">\n",
              "      <th></th>\n",
              "      <th>age</th>\n",
              "      <th>sex</th>\n",
              "      <th>bmi</th>\n",
              "      <th>smoker</th>\n",
              "      <th>children</th>\n",
              "      <th>charges</th>\n",
              "      <th>region_northeast</th>\n",
              "      <th>region_northwest</th>\n",
              "      <th>region_southeast</th>\n",
              "      <th>region_southwest</th>\n",
              "    </tr>\n",
              "  </thead>\n",
              "  <tbody>\n",
              "    <tr>\n",
              "      <th>0</th>\n",
              "      <td>21.000000</td>\n",
              "      <td>1</td>\n",
              "      <td>25.745000</td>\n",
              "      <td>0</td>\n",
              "      <td>2</td>\n",
              "      <td>3279.868550</td>\n",
              "      <td>True</td>\n",
              "      <td>False</td>\n",
              "      <td>False</td>\n",
              "      <td>False</td>\n",
              "    </tr>\n",
              "    <tr>\n",
              "      <th>1</th>\n",
              "      <td>36.976978</td>\n",
              "      <td>0</td>\n",
              "      <td>25.744165</td>\n",
              "      <td>1</td>\n",
              "      <td>3</td>\n",
              "      <td>21454.494239</td>\n",
              "      <td>False</td>\n",
              "      <td>False</td>\n",
              "      <td>True</td>\n",
              "      <td>False</td>\n",
              "    </tr>\n",
              "    <tr>\n",
              "      <th>2</th>\n",
              "      <td>18.000000</td>\n",
              "      <td>1</td>\n",
              "      <td>30.030000</td>\n",
              "      <td>0</td>\n",
              "      <td>1</td>\n",
              "      <td>1720.353700</td>\n",
              "      <td>False</td>\n",
              "      <td>False</td>\n",
              "      <td>True</td>\n",
              "      <td>False</td>\n",
              "    </tr>\n",
              "    <tr>\n",
              "      <th>3</th>\n",
              "      <td>37.000000</td>\n",
              "      <td>1</td>\n",
              "      <td>30.676891</td>\n",
              "      <td>0</td>\n",
              "      <td>3</td>\n",
              "      <td>6801.437542</td>\n",
              "      <td>True</td>\n",
              "      <td>False</td>\n",
              "      <td>False</td>\n",
              "      <td>False</td>\n",
              "    </tr>\n",
              "    <tr>\n",
              "      <th>4</th>\n",
              "      <td>58.000000</td>\n",
              "      <td>1</td>\n",
              "      <td>32.010000</td>\n",
              "      <td>0</td>\n",
              "      <td>1</td>\n",
              "      <td>11946.625900</td>\n",
              "      <td>False</td>\n",
              "      <td>False</td>\n",
              "      <td>True</td>\n",
              "      <td>False</td>\n",
              "    </tr>\n",
              "  </tbody>\n",
              "</table>\n",
              "</div>"
            ],
            "text/plain": [
              "         age  sex        bmi  smoker  children       charges  \\\n",
              "0  21.000000    1  25.745000       0         2   3279.868550   \n",
              "1  36.976978    0  25.744165       1         3  21454.494239   \n",
              "2  18.000000    1  30.030000       0         1   1720.353700   \n",
              "3  37.000000    1  30.676891       0         3   6801.437542   \n",
              "4  58.000000    1  32.010000       0         1  11946.625900   \n",
              "\n",
              "   region_northeast  region_northwest  region_southeast  region_southwest  \n",
              "0              True             False             False             False  \n",
              "1             False             False              True             False  \n",
              "2             False             False              True             False  \n",
              "3              True             False             False             False  \n",
              "4             False             False              True             False  "
            ]
          },
          "execution_count": 26,
          "metadata": {},
          "output_type": "execute_result"
        }
      ],
      "source": [
        "df1.head()"
      ]
    },
    {
      "cell_type": "code",
      "execution_count": 27,
      "metadata": {
        "colab": {
          "base_uri": "https://localhost:8080/",
          "height": 1000
        },
        "id": "K_UpztlrEzEX",
        "outputId": "4f9a5a59-17fa-489d-f953-0c02f3aba583"
      },
      "outputs": [
        {
          "data": {
            "image/png": "[encoded data removed]",
            "text/plain": [
              "<Figure size 500x300 with 1 Axes>"
            ]
          },
          "metadata": {},
          "output_type": "display_data"
        }
      ],
      "source": [
        "plt.figure(figsize=(5,3))\n",
        "plt.hist(df1['charges'],bins=10,edgecolor='black')\n",
        "plt.xlabel('charges')\n",
        "plt.ylabel('frequency')\n",
        "plt.show()"
      ]
    },
    {
      "cell_type": "code",
      "execution_count": 28,
      "metadata": {
        "colab": {
          "base_uri": "https://localhost:8080/",
          "height": 363
        },
        "id": "fkESHCKeA70U",
        "outputId": "9202d860-7c7d-4ca1-aec4-494561943409"
      },
      "outputs": [
        {
          "data": {
            "text/html": [
              "<div>\n",
              "<style scoped>\n",
              "    .dataframe tbody tr th:only-of-type {\n",
              "        vertical-align: middle;\n",
              "    }\n",
              "\n",
              "    .dataframe tbody tr th {\n",
              "        vertical-align: top;\n",
              "    }\n",
              "\n",
              "    .dataframe thead th {\n",
              "        text-align: right;\n",
              "    }\n",
              "</style>\n",
              "<table border=\"1\" class=\"dataframe\">\n",
              "  <thead>\n",
              "    <tr style=\"text-align: right;\">\n",
              "      <th></th>\n",
              "      <th>age</th>\n",
              "      <th>sex</th>\n",
              "      <th>bmi</th>\n",
              "      <th>smoker</th>\n",
              "      <th>children</th>\n",
              "      <th>charges</th>\n",
              "      <th>region_northeast</th>\n",
              "      <th>region_northwest</th>\n",
              "      <th>region_southeast</th>\n",
              "      <th>region_southwest</th>\n",
              "    </tr>\n",
              "  </thead>\n",
              "  <tbody>\n",
              "    <tr>\n",
              "      <th>age</th>\n",
              "      <td>1.000000</td>\n",
              "      <td>-0.152745</td>\n",
              "      <td>0.143527</td>\n",
              "      <td>0.026564</td>\n",
              "      <td>-0.061076</td>\n",
              "      <td>0.299692</td>\n",
              "      <td>-0.022251</td>\n",
              "      <td>0.097243</td>\n",
              "      <td>0.048156</td>\n",
              "      <td>-0.128457</td>\n",
              "    </tr>\n",
              "    <tr>\n",
              "      <th>sex</th>\n",
              "      <td>-0.152745</td>\n",
              "      <td>1.000000</td>\n",
              "      <td>-0.011215</td>\n",
              "      <td>0.078318</td>\n",
              "      <td>0.147182</td>\n",
              "      <td>0.092703</td>\n",
              "      <td>0.106223</td>\n",
              "      <td>-0.180701</td>\n",
              "      <td>0.001615</td>\n",
              "      <td>0.077158</td>\n",
              "    </tr>\n",
              "    <tr>\n",
              "      <th>bmi</th>\n",
              "      <td>0.143527</td>\n",
              "      <td>-0.011215</td>\n",
              "      <td>1.000000</td>\n",
              "      <td>0.045921</td>\n",
              "      <td>-0.041996</td>\n",
              "      <td>0.211325</td>\n",
              "      <td>-0.037514</td>\n",
              "      <td>0.014488</td>\n",
              "      <td>0.070051</td>\n",
              "      <td>-0.051727</td>\n",
              "    </tr>\n",
              "    <tr>\n",
              "      <th>smoker</th>\n",
              "      <td>0.026564</td>\n",
              "      <td>0.078318</td>\n",
              "      <td>0.045921</td>\n",
              "      <td>1.000000</td>\n",
              "      <td>-0.183507</td>\n",
              "      <td>0.777175</td>\n",
              "      <td>0.056199</td>\n",
              "      <td>-0.034372</td>\n",
              "      <td>0.048327</td>\n",
              "      <td>-0.072273</td>\n",
              "    </tr>\n",
              "    <tr>\n",
              "      <th>children</th>\n",
              "      <td>-0.061076</td>\n",
              "      <td>0.147182</td>\n",
              "      <td>-0.041996</td>\n",
              "      <td>-0.183507</td>\n",
              "      <td>1.000000</td>\n",
              "      <td>-0.075089</td>\n",
              "      <td>-0.078339</td>\n",
              "      <td>-0.087854</td>\n",
              "      <td>0.068287</td>\n",
              "      <td>0.095720</td>\n",
              "    </tr>\n",
              "    <tr>\n",
              "      <th>charges</th>\n",
              "      <td>0.299692</td>\n",
              "      <td>0.092703</td>\n",
              "      <td>0.211325</td>\n",
              "      <td>0.777175</td>\n",
              "      <td>-0.075089</td>\n",
              "      <td>1.000000</td>\n",
              "      <td>0.112336</td>\n",
              "      <td>-0.043049</td>\n",
              "      <td>0.050719</td>\n",
              "      <td>-0.122019</td>\n",
              "    </tr>\n",
              "    <tr>\n",
              "      <th>region_northeast</th>\n",
              "      <td>-0.022251</td>\n",
              "      <td>0.106223</td>\n",
              "      <td>-0.037514</td>\n",
              "      <td>0.056199</td>\n",
              "      <td>-0.078339</td>\n",
              "      <td>0.112336</td>\n",
              "      <td>1.000000</td>\n",
              "      <td>-0.319576</td>\n",
              "      <td>-0.345378</td>\n",
              "      <td>-0.305286</td>\n",
              "    </tr>\n",
              "    <tr>\n",
              "      <th>region_northwest</th>\n",
              "      <td>0.097243</td>\n",
              "      <td>-0.180701</td>\n",
              "      <td>0.014488</td>\n",
              "      <td>-0.034372</td>\n",
              "      <td>-0.087854</td>\n",
              "      <td>-0.043049</td>\n",
              "      <td>-0.319576</td>\n",
              "      <td>1.000000</td>\n",
              "      <td>-0.362102</td>\n",
              "      <td>-0.320068</td>\n",
              "    </tr>\n",
              "    <tr>\n",
              "      <th>region_southeast</th>\n",
              "      <td>0.048156</td>\n",
              "      <td>0.001615</td>\n",
              "      <td>0.070051</td>\n",
              "      <td>0.048327</td>\n",
              "      <td>0.068287</td>\n",
              "      <td>0.050719</td>\n",
              "      <td>-0.345378</td>\n",
              "      <td>-0.362102</td>\n",
              "      <td>1.000000</td>\n",
              "      <td>-0.345910</td>\n",
              "    </tr>\n",
              "    <tr>\n",
              "      <th>region_southwest</th>\n",
              "      <td>-0.128457</td>\n",
              "      <td>0.077158</td>\n",
              "      <td>-0.051727</td>\n",
              "      <td>-0.072273</td>\n",
              "      <td>0.095720</td>\n",
              "      <td>-0.122019</td>\n",
              "      <td>-0.305286</td>\n",
              "      <td>-0.320068</td>\n",
              "      <td>-0.345910</td>\n",
              "      <td>1.000000</td>\n",
              "    </tr>\n",
              "  </tbody>\n",
              "</table>\n",
              "</div>"
            ],
            "text/plain": [
              "                       age       sex       bmi    smoker  children   charges  \\\n",
              "age               1.000000 -0.152745  0.143527  0.026564 -0.061076  0.299692   \n",
              "sex              -0.152745  1.000000 -0.011215  0.078318  0.147182  0.092703   \n",
              "bmi               0.143527 -0.011215  1.000000  0.045921 -0.041996  0.211325   \n",
              "smoker            0.026564  0.078318  0.045921  1.000000 -0.183507  0.777175   \n",
              "children         -0.061076  0.147182 -0.041996 -0.183507  1.000000 -0.075089   \n",
              "charges           0.299692  0.092703  0.211325  0.777175 -0.075089  1.000000   \n",
              "region_northeast -0.022251  0.106223 -0.037514  0.056199 -0.078339  0.112336   \n",
              "region_northwest  0.097243 -0.180701  0.014488 -0.034372 -0.087854 -0.043049   \n",
              "region_southeast  0.048156  0.001615  0.070051  0.048327  0.068287  0.050719   \n",
              "region_southwest -0.128457  0.077158 -0.051727 -0.072273  0.095720 -0.122019   \n",
              "\n",
              "                  region_northeast  region_northwest  region_southeast  \\\n",
              "age                      -0.022251          0.097243          0.048156   \n",
              "sex                       0.106223         -0.180701          0.001615   \n",
              "bmi                      -0.037514          0.014488          0.070051   \n",
              "smoker                    0.056199         -0.034372          0.048327   \n",
              "children                 -0.078339         -0.087854          0.068287   \n",
              "charges                   0.112336         -0.043049          0.050719   \n",
              "region_northeast          1.000000         -0.319576         -0.345378   \n",
              "region_northwest         -0.319576          1.000000         -0.362102   \n",
              "region_southeast         -0.345378         -0.362102          1.000000   \n",
              "region_southwest         -0.305286         -0.320068         -0.345910   \n",
              "\n",
              "                  region_southwest  \n",
              "age                      -0.128457  \n",
              "sex                       0.077158  \n",
              "bmi                      -0.051727  \n",
              "smoker                   -0.072273  \n",
              "children                  0.095720  \n",
              "charges                  -0.122019  \n",
              "region_northeast         -0.305286  \n",
              "region_northwest         -0.320068  \n",
              "region_southeast         -0.345910  \n",
              "region_southwest          1.000000  "
            ]
          },
          "execution_count": 28,
          "metadata": {},
          "output_type": "execute_result"
        }
      ],
      "source": [
        "df1.corr()"
      ]
    },
    {
      "cell_type": "code",
      "execution_count": 29,
      "metadata": {},
      "outputs": [
        {
          "data": {
            "text/html": [
              "<div>\n",
              "<style scoped>\n",
              "    .dataframe tbody tr th:only-of-type {\n",
              "        vertical-align: middle;\n",
              "    }\n",
              "\n",
              "    .dataframe tbody tr th {\n",
              "        vertical-align: top;\n",
              "    }\n",
              "\n",
              "    .dataframe thead th {\n",
              "        text-align: right;\n",
              "    }\n",
              "</style>\n",
              "<table border=\"1\" class=\"dataframe\">\n",
              "  <thead>\n",
              "    <tr style=\"text-align: right;\">\n",
              "      <th></th>\n",
              "      <th>age</th>\n",
              "      <th>sex</th>\n",
              "      <th>bmi</th>\n",
              "      <th>smoker</th>\n",
              "      <th>children</th>\n",
              "      <th>charges</th>\n",
              "      <th>region_northeast</th>\n",
              "      <th>region_northwest</th>\n",
              "      <th>region_southeast</th>\n",
              "      <th>region_southwest</th>\n",
              "    </tr>\n",
              "  </thead>\n",
              "  <tbody>\n",
              "    <tr>\n",
              "      <th>0</th>\n",
              "      <td>21.0</td>\n",
              "      <td>1</td>\n",
              "      <td>25.745000</td>\n",
              "      <td>0</td>\n",
              "      <td>2</td>\n",
              "      <td>3279.868550</td>\n",
              "      <td>True</td>\n",
              "      <td>False</td>\n",
              "      <td>False</td>\n",
              "      <td>False</td>\n",
              "    </tr>\n",
              "    <tr>\n",
              "      <th>1</th>\n",
              "      <td>37.0</td>\n",
              "      <td>0</td>\n",
              "      <td>25.744165</td>\n",
              "      <td>1</td>\n",
              "      <td>3</td>\n",
              "      <td>21454.494239</td>\n",
              "      <td>False</td>\n",
              "      <td>False</td>\n",
              "      <td>True</td>\n",
              "      <td>False</td>\n",
              "    </tr>\n",
              "    <tr>\n",
              "      <th>2</th>\n",
              "      <td>18.0</td>\n",
              "      <td>1</td>\n",
              "      <td>30.030000</td>\n",
              "      <td>0</td>\n",
              "      <td>1</td>\n",
              "      <td>1720.353700</td>\n",
              "      <td>False</td>\n",
              "      <td>False</td>\n",
              "      <td>True</td>\n",
              "      <td>False</td>\n",
              "    </tr>\n",
              "    <tr>\n",
              "      <th>3</th>\n",
              "      <td>37.0</td>\n",
              "      <td>1</td>\n",
              "      <td>30.676891</td>\n",
              "      <td>0</td>\n",
              "      <td>3</td>\n",
              "      <td>6801.437542</td>\n",
              "      <td>True</td>\n",
              "      <td>False</td>\n",
              "      <td>False</td>\n",
              "      <td>False</td>\n",
              "    </tr>\n",
              "    <tr>\n",
              "      <th>4</th>\n",
              "      <td>58.0</td>\n",
              "      <td>1</td>\n",
              "      <td>32.010000</td>\n",
              "      <td>0</td>\n",
              "      <td>1</td>\n",
              "      <td>11946.625900</td>\n",
              "      <td>False</td>\n",
              "      <td>False</td>\n",
              "      <td>True</td>\n",
              "      <td>False</td>\n",
              "    </tr>\n",
              "  </tbody>\n",
              "</table>\n",
              "</div>"
            ],
            "text/plain": [
              "    age  sex        bmi  smoker  children       charges  region_northeast  \\\n",
              "0  21.0    1  25.745000       0         2   3279.868550              True   \n",
              "1  37.0    0  25.744165       1         3  21454.494239             False   \n",
              "2  18.0    1  30.030000       0         1   1720.353700             False   \n",
              "3  37.0    1  30.676891       0         3   6801.437542              True   \n",
              "4  58.0    1  32.010000       0         1  11946.625900             False   \n",
              "\n",
              "   region_northwest  region_southeast  region_southwest  \n",
              "0             False             False             False  \n",
              "1             False              True             False  \n",
              "2             False              True             False  \n",
              "3             False             False             False  \n",
              "4             False              True             False  "
            ]
          },
          "execution_count": 29,
          "metadata": {},
          "output_type": "execute_result"
        }
      ],
      "source": [
        "df1['age'] = df1['age'].round()\n",
        "df1.head()"
      ]
    },
    {
      "cell_type": "code",
      "execution_count": 30,
      "metadata": {},
      "outputs": [
        {
          "data": {
            "image/png": "[encoded data removed]",
            "text/plain": [
              "<Figure size 2500x1000 with 1 Axes>"
            ]
          },
          "metadata": {},
          "output_type": "display_data"
        }
      ],
      "source": [
        "plt.figure(figsize=(25,10))\n",
        "df1.boxplot()\n",
        "plt.show()"
      ]
    },
    {
      "cell_type": "code",
      "execution_count": 31,
      "metadata": {},
      "outputs": [],
      "source": [
        "df1['charges'] = np.log(df1['charges'])"
      ]
    },
    {
      "cell_type": "code",
      "execution_count": 32,
      "metadata": {},
      "outputs": [
        {
          "data": {
            "image/png": "[encoded data removed]",
            "text/plain": [
              "<Figure size 2500x1000 with 1 Axes>"
            ]
          },
          "metadata": {},
          "output_type": "display_data"
        }
      ],
      "source": [
        "plt.figure(figsize=(25,10))\n",
        "df1.boxplot()\n",
        "plt.show()"
      ]
    },
    {
      "cell_type": "code",
      "execution_count": 33,
      "metadata": {
        "id": "KJp4k5mrA70V"
      },
      "outputs": [],
      "source": [
        "scaler = StandardScaler()\n",
        "\n",
        "df1[['age','bmi','children',]] = scaler.fit_transform(df1[['age','bmi','children']])\n"
      ]
    },
    {
      "cell_type": "code",
      "execution_count": 34,
      "metadata": {
        "colab": {
          "base_uri": "https://localhost:8080/",
          "height": 1000
        },
        "id": "qgv3FKg0A70V",
        "outputId": "18c22b1e-4e5c-4163-8374-79d086dd28a7"
      },
      "outputs": [
        {
          "data": {
            "text/html": [
              "<div>\n",
              "<style scoped>\n",
              "    .dataframe tbody tr th:only-of-type {\n",
              "        vertical-align: middle;\n",
              "    }\n",
              "\n",
              "    .dataframe tbody tr th {\n",
              "        vertical-align: top;\n",
              "    }\n",
              "\n",
              "    .dataframe thead th {\n",
              "        text-align: right;\n",
              "    }\n",
              "</style>\n",
              "<table border=\"1\" class=\"dataframe\">\n",
              "  <thead>\n",
              "    <tr style=\"text-align: right;\">\n",
              "      <th></th>\n",
              "      <th>age</th>\n",
              "      <th>sex</th>\n",
              "      <th>bmi</th>\n",
              "      <th>smoker</th>\n",
              "      <th>children</th>\n",
              "      <th>charges</th>\n",
              "      <th>region_northeast</th>\n",
              "      <th>region_northwest</th>\n",
              "      <th>region_southeast</th>\n",
              "      <th>region_southwest</th>\n",
              "    </tr>\n",
              "  </thead>\n",
              "  <tbody>\n",
              "    <tr>\n",
              "      <th>0</th>\n",
              "      <td>-1.471963</td>\n",
              "      <td>1</td>\n",
              "      <td>-0.897822</td>\n",
              "      <td>0</td>\n",
              "      <td>-0.294091</td>\n",
              "      <td>8.095559</td>\n",
              "      <td>True</td>\n",
              "      <td>False</td>\n",
              "      <td>False</td>\n",
              "      <td>False</td>\n",
              "    </tr>\n",
              "    <tr>\n",
              "      <th>1</th>\n",
              "      <td>-0.155350</td>\n",
              "      <td>0</td>\n",
              "      <td>-0.897976</td>\n",
              "      <td>1</td>\n",
              "      <td>0.289908</td>\n",
              "      <td>9.973689</td>\n",
              "      <td>False</td>\n",
              "      <td>False</td>\n",
              "      <td>True</td>\n",
              "      <td>False</td>\n",
              "    </tr>\n",
              "    <tr>\n",
              "      <th>2</th>\n",
              "      <td>-1.718828</td>\n",
              "      <td>1</td>\n",
              "      <td>-0.110219</td>\n",
              "      <td>0</td>\n",
              "      <td>-0.878090</td>\n",
              "      <td>7.450285</td>\n",
              "      <td>False</td>\n",
              "      <td>False</td>\n",
              "      <td>True</td>\n",
              "      <td>False</td>\n",
              "    </tr>\n",
              "    <tr>\n",
              "      <th>3</th>\n",
              "      <td>-0.155350</td>\n",
              "      <td>1</td>\n",
              "      <td>0.008683</td>\n",
              "      <td>0</td>\n",
              "      <td>0.289908</td>\n",
              "      <td>8.824889</td>\n",
              "      <td>True</td>\n",
              "      <td>False</td>\n",
              "      <td>False</td>\n",
              "      <td>False</td>\n",
              "    </tr>\n",
              "    <tr>\n",
              "      <th>4</th>\n",
              "      <td>1.572703</td>\n",
              "      <td>1</td>\n",
              "      <td>0.253714</td>\n",
              "      <td>0</td>\n",
              "      <td>-0.878090</td>\n",
              "      <td>9.388204</td>\n",
              "      <td>False</td>\n",
              "      <td>False</td>\n",
              "      <td>True</td>\n",
              "      <td>False</td>\n",
              "    </tr>\n",
              "  </tbody>\n",
              "</table>\n",
              "</div>"
            ],
            "text/plain": [
              "        age  sex       bmi  smoker  children   charges  region_northeast  \\\n",
              "0 -1.471963    1 -0.897822       0 -0.294091  8.095559              True   \n",
              "1 -0.155350    0 -0.897976       1  0.289908  9.973689             False   \n",
              "2 -1.718828    1 -0.110219       0 -0.878090  7.450285             False   \n",
              "3 -0.155350    1  0.008683       0  0.289908  8.824889              True   \n",
              "4  1.572703    1  0.253714       0 -0.878090  9.388204             False   \n",
              "\n",
              "   region_northwest  region_southeast  region_southwest  \n",
              "0             False             False             False  \n",
              "1             False              True             False  \n",
              "2             False              True             False  \n",
              "3             False             False             False  \n",
              "4             False              True             False  "
            ]
          },
          "execution_count": 34,
          "metadata": {},
          "output_type": "execute_result"
        }
      ],
      "source": [
        "df1.head()"
      ]
    },
    {
      "cell_type": "code",
      "execution_count": 35,
      "metadata": {
        "colab": {
          "base_uri": "https://localhost:8080/"
        },
        "id": "FA9diBWjA70X",
        "outputId": "1a06deb5-a0c8-4282-bab3-853163104f0a"
      },
      "outputs": [
        {
          "name": "stdout",
          "output_type": "stream",
          "text": [
            "Mean Absolute Error: 0.2570111028817652\n",
            "Mean Squared Error: 0.1575988397323438\n",
            "Root Mean Squared Error: 0.396987203486893\n",
            "R²-score:  0.7225844106727981\n"
          ]
        }
      ],
      "source": [
        "#Without K fold\n",
        "\n",
        "lr = LinearRegression()\n",
        "X = df1.drop('charges',axis=1)\n",
        "y = df1['charges']\n",
        "\n",
        "X_train,X_test,y_train,y_test=train_test_split(X,y,random_state=42,test_size=0.2)\n",
        "\n",
        "lr.fit(X_train,y_train)\n",
        "\n",
        "y_pred = lr.predict(X_test)\n",
        "\n",
        "mae = mean_absolute_error(y_test, y_pred)\n",
        "print('Mean Absolute Error:', mae)\n",
        "\n",
        "\n",
        "mse = mean_squared_error(y_test, y_pred)\n",
        "print('Mean Squared Error:', mse)\n",
        "\n",
        "\n",
        "rmse = np.sqrt(mse)\n",
        "print('Root Mean Squared Error:', rmse)\n",
        "\n",
        "print(\"R²-score: \",metrics.r2_score(y_test,y_pred))\n",
        "\n"
      ]
    },
    {
      "cell_type": "code",
      "execution_count": 36,
      "metadata": {
        "colab": {
          "base_uri": "https://localhost:8080/"
        },
        "id": "jg7Q-kWDNKeV",
        "outputId": "88bf0e41-3cdd-49ec-aabb-f0672bae043d"
      },
      "outputs": [
        {
          "name": "stdout",
          "output_type": "stream",
          "text": [
            "Simple K-Fold:\n",
            "MAE:  0.2639762458978318 MSE:  0.4016408453530924 RMSE:  0.6335944008511633\n",
            "R²-score:  0.721053470320264\n"
          ]
        }
      ],
      "source": [
        "warnings.filterwarnings(\"ignore\")\n",
        "# After Kfold technique\n",
        "\n",
        "X = df1.drop('charges',axis=1)\n",
        "y = df1['charges']\n",
        "n_splits = 7\n",
        "\n",
        "\n",
        "a, b, c, rc,r2 = [], [], [], [],[]\n",
        "\n",
        "\n",
        "kf = KFold(n_splits=n_splits, shuffle=True, random_state=42)\n",
        "for tr, te in kf.split(X):\n",
        "    X_train, X_test = X.iloc[tr], X.iloc[te]\n",
        "    y_train, y_test = y.iloc[tr], y.iloc[te]\n",
        "    regressor = LinearRegression()\n",
        "    regressor.fit(X_train, y_train)\n",
        "    y_pred = regressor.predict(X_test)\n",
        "    mae = mean_absolute_error(y_test, y_pred)\n",
        "    b.append(mae)\n",
        "    mse = mean_squared_error(y_test, y_pred, squared = False)\n",
        "    c.append(mse)\n",
        "    rmse = np.sqrt(mse)\n",
        "    rc.append(rmse)\n",
        "    acc=metrics.r2_score(y_test,y_pred)\n",
        "    r2.append(acc)\n",
        "mae, mse, rmse,accr =  np.mean(b), np.mean(c), np.mean(rc),np.mean(r2)\n",
        "print(\"Simple K-Fold:\")\n",
        "print( \"MAE: \",mae,\"MSE: \",mse,\"RMSE: \",rmse)\n",
        "print(\"R²-score: \",accr)\n",
        "\n"
      ]
    },
    {
      "cell_type": "code",
      "execution_count": 37,
      "metadata": {
        "colab": {
          "base_uri": "https://localhost:8080/"
        },
        "id": "LoWqNtXjIvI-",
        "outputId": "05df7971-1351-4e22-ac53-25d2ded02110"
      },
      "outputs": [
        {
          "name": "stdout",
          "output_type": "stream",
          "text": [
            "R²-score:  0.8064238806847133\n",
            "Mean Absolute Error: 0.16199051582004537\n",
            "Mean Squared Error: 0.10996992590779235\n",
            "Root Mean Squared Error: 0.33161713753633476\n"
          ]
        }
      ],
      "source": [
        "#knn without hyperparameter tuning\n",
        "X=df1.drop('charges',axis=1)\n",
        "y=df1['charges']\n",
        "X_train, X_test, y_train, y_test = train_test_split(X, y, test_size=0.2, random_state=42)\n",
        "knn = KNeighborsRegressor()\n",
        "knn.fit(X_train,y_train)\n",
        "y_pred=knn.predict(X_test)\n",
        "print(\"R²-score: \",metrics.r2_score(y_test,y_pred))\n",
        "\n",
        "mae = mean_absolute_error(y_test, y_pred)\n",
        "print('Mean Absolute Error:', mae)\n",
        "\n",
        "\n",
        "mse = mean_squared_error(y_test, y_pred)\n",
        "print('Mean Squared Error:', mse)\n",
        "\n",
        "\n",
        "rmse = np.sqrt(mse)\n",
        "print('Root Mean Squared Error:', rmse)"
      ]
    },
    {
      "cell_type": "code",
      "execution_count": 38,
      "metadata": {
        "colab": {
          "base_uri": "https://localhost:8080/"
        },
        "id": "Zrv7js7gA70X",
        "outputId": "671fa9cf-858e-47fa-acd8-0d7acd5dcebf"
      },
      "outputs": [
        {
          "name": "stdout",
          "output_type": "stream",
          "text": [
            "Best Parameters: {'metric': 'manhattan', 'n_neighbors': 7, 'weights': 'distance'}\n",
            "Metrics with Best KNN Model:\n",
            "MAE: 0.12\n",
            "MSE: 0.09\n",
            "RMSE: 0.30\n",
            "R²-score: 0.85\n"
          ]
        }
      ],
      "source": [
        "#Knn after hyperparameter tuning\n",
        "X = df1.drop('charges', axis=1)\n",
        "y = df1['charges']\n",
        "\n",
        "\n",
        "X_train, X_test, y_train, y_test = train_test_split(X, y, test_size=0.2, random_state=42)\n",
        "\n",
        "\n",
        "param_grid = {\n",
        "    'n_neighbors': [3, 5, 7, 9, 11],\n",
        "    'weights': ['uniform', 'distance'],\n",
        "    'metric': ['euclidean', 'manhattan', 'minkowski']\n",
        "}\n",
        "\n",
        "\n",
        "knn = KNeighborsRegressor()\n",
        "\n",
        "\n",
        "grid_search = GridSearchCV(knn, param_grid, cv=KFold(n_splits=7, shuffle=True, random_state=42), scoring='r2', n_jobs=-1)\n",
        "\n",
        "\n",
        "grid_search.fit(X_train, y_train)\n",
        "\n",
        "best_params = grid_search.best_params_\n",
        "print(\"Best Parameters:\", best_params)\n",
        "\n",
        "\n",
        "best_knn = grid_search.best_estimator_\n",
        "y_pred = best_knn.predict(X_test)\n",
        "\n",
        "\n",
        "mae = mean_absolute_error(y_test, y_pred)\n",
        "mse = mean_squared_error(y_test, y_pred)\n",
        "rmse = np.sqrt(mse)\n",
        "r2 = r2_score(y_test, y_pred)\n",
        "\n",
        "print(\"Metrics with Best KNN Model:\")\n",
        "print(f\"MAE: {mae:.2f}\")\n",
        "print(f\"MSE: {mse:.2f}\")\n",
        "print(f\"RMSE: {rmse:.2f}\")\n",
        "print(f\"R²-score: {r2:.2f}\")\n"
      ]
    },
    {
      "cell_type": "code",
      "execution_count": 39,
      "metadata": {
        "colab": {
          "base_uri": "https://localhost:8080/"
        },
        "id": "hFd-e96AA70Y",
        "outputId": "938703ff-d86c-4ef4-a63a-0a0972fb4cb9"
      },
      "outputs": [
        {
          "name": "stdout",
          "output_type": "stream",
          "text": [
            "R²-score:  0.8952444436269045\n",
            "Mean Absolute Error: 0.10317337206116463\n",
            "Mean Squared Error: 0.059511270364996635\n",
            "Root Mean Squared Error: 0.24394931925503838\n"
          ]
        }
      ],
      "source": [
        "Rf = RandomForestRegressor()\n",
        "\n",
        "X = df1.drop('charges',axis=1)\n",
        "y = df1['charges']\n",
        "\n",
        "X_train,X_test,y_train,y_test = train_test_split(X,y,test_size = 0.2,random_state = 42)\n",
        "\n",
        "Rf.fit(X_train,y_train)\n",
        "\n",
        "y_pred = Rf.predict(X_test)\n",
        "\n",
        "print(\"R²-score: \",metrics.r2_score(y_test,y_pred))\n",
        "\n",
        "mae = mean_absolute_error(y_test, y_pred)\n",
        "print('Mean Absolute Error:', mae)\n",
        "\n",
        "\n",
        "mse = mean_squared_error(y_test, y_pred)\n",
        "print('Mean Squared Error:', mse)\n",
        "\n",
        "\n",
        "rmse = np.sqrt(mse)\n",
        "print('Root Mean Squared Error:', rmse)\n"
      ]
    }
  ],
  "metadata": {
    "colab": {
      "provenance": []
    },
    "kernelspec": {
      "display_name": "pytorch",
      "language": "python",
      "name": "python3"
    },
    "language_info": {
      "codemirror_mode": {
        "name": "ipython",
        "version": 3
      },
      "file_extension": ".py",
      "mimetype": "text/x-python",
      "name": "python",
      "nbconvert_exporter": "python",
      "pygments_lexer": "ipython3",
      "version": "3.12.0"
    }
  },
  "nbformat": 4,
  "nbformat_minor": 0
}
